{
 "cells": [
  {
   "cell_type": "code",
   "execution_count": 1,
   "id": "9bd4a481-c0bc-4075-8055-4293ad880b00",
   "metadata": {},
   "outputs": [],
   "source": [
    "import pandas as pd\n",
    "import numpy as np\n",
    "import seaborn as sns\n",
    "import matplotlib.pyplot as plt\n",
    "\n",
    "import env\n",
    "\n",
    "from datetime import date\n",
    "\n",
    "#ignore warnings\n",
    "import warnings\n",
    "warnings.filterwarnings('ignore')"
   ]
  },
  {
   "cell_type": "markdown",
   "id": "ebbad567-2ad8-4462-80a6-aa688436a73b",
   "metadata": {},
   "source": [
    "# Acquire"
   ]
  },
  {
   "cell_type": "markdown",
   "id": "3e96c12b-ed0c-4cd4-95f1-897445354bbc",
   "metadata": {},
   "source": [
    "##### function that accesses db server and querries logs and cohorts tables from the curriculm_logs db."
   ]
  },
  {
   "cell_type": "code",
   "execution_count": 2,
   "id": "83ddc584-26ed-4754-8aa8-afac89247833",
   "metadata": {},
   "outputs": [],
   "source": [
    "#db access\n",
    "def get_connection(db, user=env.user, host=env.host, password=env.password):\n",
    "    return f'mysql+pymysql://{user}:{password}@{host}/{db}'\n",
    "\n",
    "#curriculum_logs db\n",
    "log_sql = \"SELECT *\\\n",
    "              FROM logs\\\n",
    "              LEFT JOIN cohorts ON logs.cohort_id = cohorts.id;\""
   ]
  },
  {
   "cell_type": "markdown",
   "id": "7c14a8cf-8395-446f-8c16-d7057621ddca",
   "metadata": {},
   "source": [
    "##### grabs dataset from get_connection function above and formats it into a pandas dataframe."
   ]
  },
  {
   "cell_type": "code",
   "execution_count": 3,
   "id": "993bbea9-21a8-4abd-9b8b-d08965aeacfc",
   "metadata": {},
   "outputs": [],
   "source": [
    "#acquires curriculum_logs dataset\n",
    "def get_log_data():\n",
    "    return pd.read_sql(log_sql,get_connection('curriculum_logs'))"
   ]
  },
  {
   "cell_type": "markdown",
   "id": "af0db60c-b823-4cfe-9a57-541e01f221d7",
   "metadata": {},
   "source": [
    "##### sets the queried datframe as 'df'."
   ]
  },
  {
   "cell_type": "code",
   "execution_count": 4,
   "id": "c527095c-a556-4cec-9986-3f993d2fc824",
   "metadata": {},
   "outputs": [
    {
     "data": {
      "text/html": [
       "<div>\n",
       "<style scoped>\n",
       "    .dataframe tbody tr th:only-of-type {\n",
       "        vertical-align: middle;\n",
       "    }\n",
       "\n",
       "    .dataframe tbody tr th {\n",
       "        vertical-align: top;\n",
       "    }\n",
       "\n",
       "    .dataframe thead th {\n",
       "        text-align: right;\n",
       "    }\n",
       "</style>\n",
       "<table border=\"1\" class=\"dataframe\">\n",
       "  <thead>\n",
       "    <tr style=\"text-align: right;\">\n",
       "      <th></th>\n",
       "      <th>date</th>\n",
       "      <th>time</th>\n",
       "      <th>path</th>\n",
       "      <th>user_id</th>\n",
       "      <th>cohort_id</th>\n",
       "      <th>ip</th>\n",
       "      <th>id</th>\n",
       "      <th>name</th>\n",
       "      <th>slack</th>\n",
       "      <th>start_date</th>\n",
       "      <th>end_date</th>\n",
       "      <th>created_at</th>\n",
       "      <th>updated_at</th>\n",
       "      <th>deleted_at</th>\n",
       "      <th>program_id</th>\n",
       "    </tr>\n",
       "  </thead>\n",
       "  <tbody>\n",
       "    <tr>\n",
       "      <th>0</th>\n",
       "      <td>2018-01-26</td>\n",
       "      <td>09:55:03</td>\n",
       "      <td>/</td>\n",
       "      <td>1</td>\n",
       "      <td>8.0</td>\n",
       "      <td>97.105.19.61</td>\n",
       "      <td>8.0</td>\n",
       "      <td>Hampton</td>\n",
       "      <td>#hampton</td>\n",
       "      <td>2015-09-22</td>\n",
       "      <td>2016-02-06</td>\n",
       "      <td>2016-06-14 19:52:26</td>\n",
       "      <td>2016-06-14 19:52:26</td>\n",
       "      <td>None</td>\n",
       "      <td>1.0</td>\n",
       "    </tr>\n",
       "    <tr>\n",
       "      <th>1</th>\n",
       "      <td>2018-01-26</td>\n",
       "      <td>09:56:02</td>\n",
       "      <td>java-ii</td>\n",
       "      <td>1</td>\n",
       "      <td>8.0</td>\n",
       "      <td>97.105.19.61</td>\n",
       "      <td>8.0</td>\n",
       "      <td>Hampton</td>\n",
       "      <td>#hampton</td>\n",
       "      <td>2015-09-22</td>\n",
       "      <td>2016-02-06</td>\n",
       "      <td>2016-06-14 19:52:26</td>\n",
       "      <td>2016-06-14 19:52:26</td>\n",
       "      <td>None</td>\n",
       "      <td>1.0</td>\n",
       "    </tr>\n",
       "    <tr>\n",
       "      <th>2</th>\n",
       "      <td>2018-01-26</td>\n",
       "      <td>09:56:05</td>\n",
       "      <td>java-ii/object-oriented-programming</td>\n",
       "      <td>1</td>\n",
       "      <td>8.0</td>\n",
       "      <td>97.105.19.61</td>\n",
       "      <td>8.0</td>\n",
       "      <td>Hampton</td>\n",
       "      <td>#hampton</td>\n",
       "      <td>2015-09-22</td>\n",
       "      <td>2016-02-06</td>\n",
       "      <td>2016-06-14 19:52:26</td>\n",
       "      <td>2016-06-14 19:52:26</td>\n",
       "      <td>None</td>\n",
       "      <td>1.0</td>\n",
       "    </tr>\n",
       "    <tr>\n",
       "      <th>3</th>\n",
       "      <td>2018-01-26</td>\n",
       "      <td>09:56:06</td>\n",
       "      <td>slides/object_oriented_programming</td>\n",
       "      <td>1</td>\n",
       "      <td>8.0</td>\n",
       "      <td>97.105.19.61</td>\n",
       "      <td>8.0</td>\n",
       "      <td>Hampton</td>\n",
       "      <td>#hampton</td>\n",
       "      <td>2015-09-22</td>\n",
       "      <td>2016-02-06</td>\n",
       "      <td>2016-06-14 19:52:26</td>\n",
       "      <td>2016-06-14 19:52:26</td>\n",
       "      <td>None</td>\n",
       "      <td>1.0</td>\n",
       "    </tr>\n",
       "    <tr>\n",
       "      <th>4</th>\n",
       "      <td>2018-01-26</td>\n",
       "      <td>09:56:24</td>\n",
       "      <td>javascript-i/conditionals</td>\n",
       "      <td>2</td>\n",
       "      <td>22.0</td>\n",
       "      <td>97.105.19.61</td>\n",
       "      <td>22.0</td>\n",
       "      <td>Teddy</td>\n",
       "      <td>#teddy</td>\n",
       "      <td>2018-01-08</td>\n",
       "      <td>2018-05-17</td>\n",
       "      <td>2018-01-08 13:59:10</td>\n",
       "      <td>2018-01-08 13:59:10</td>\n",
       "      <td>None</td>\n",
       "      <td>2.0</td>\n",
       "    </tr>\n",
       "  </tbody>\n",
       "</table>\n",
       "</div>"
      ],
      "text/plain": [
       "         date      time                                 path  user_id  \\\n",
       "0  2018-01-26  09:55:03                                    /        1   \n",
       "1  2018-01-26  09:56:02                              java-ii        1   \n",
       "2  2018-01-26  09:56:05  java-ii/object-oriented-programming        1   \n",
       "3  2018-01-26  09:56:06   slides/object_oriented_programming        1   \n",
       "4  2018-01-26  09:56:24            javascript-i/conditionals        2   \n",
       "\n",
       "   cohort_id            ip    id     name     slack  start_date    end_date  \\\n",
       "0        8.0  97.105.19.61   8.0  Hampton  #hampton  2015-09-22  2016-02-06   \n",
       "1        8.0  97.105.19.61   8.0  Hampton  #hampton  2015-09-22  2016-02-06   \n",
       "2        8.0  97.105.19.61   8.0  Hampton  #hampton  2015-09-22  2016-02-06   \n",
       "3        8.0  97.105.19.61   8.0  Hampton  #hampton  2015-09-22  2016-02-06   \n",
       "4       22.0  97.105.19.61  22.0    Teddy    #teddy  2018-01-08  2018-05-17   \n",
       "\n",
       "            created_at           updated_at deleted_at  program_id  \n",
       "0  2016-06-14 19:52:26  2016-06-14 19:52:26       None         1.0  \n",
       "1  2016-06-14 19:52:26  2016-06-14 19:52:26       None         1.0  \n",
       "2  2016-06-14 19:52:26  2016-06-14 19:52:26       None         1.0  \n",
       "3  2016-06-14 19:52:26  2016-06-14 19:52:26       None         1.0  \n",
       "4  2018-01-08 13:59:10  2018-01-08 13:59:10       None         2.0  "
      ]
     },
     "execution_count": 4,
     "metadata": {},
     "output_type": "execute_result"
    }
   ],
   "source": [
    "df = get_log_data()\n",
    "df.head()"
   ]
  },
  {
   "cell_type": "markdown",
   "id": "f39b99a8-26ba-488f-8063-b09004991986",
   "metadata": {},
   "source": [
    "##### create a dictionary with the class types to append to the df by 'program id'."
   ]
  },
  {
   "cell_type": "code",
   "execution_count": 5,
   "id": "3de2f01e-1076-4c31-8ca4-fd58ab05f6c8",
   "metadata": {},
   "outputs": [
    {
     "name": "stdout",
     "output_type": "stream",
     "text": [
      "   id                             Name subdomain\n",
      "0   1   PHP Full Stack Web Development       php\n",
      "1   2  Java Full Stack Web Development      java\n",
      "2   3                     Data Science        ds\n",
      "3   4        Front End Web Development        fe\n"
     ]
    }
   ],
   "source": [
    "class_type_dict = {'id':[1, 2, 3, 4],\n",
    "        'Name':['PHP Full Stack Web Development', \n",
    "                'Java Full Stack Web Development', \n",
    "                'Data Science', \n",
    "                'Front End Web Development'],\n",
    "        'subdomain':['php','java','ds','fe']}\n",
    "class_type = pd.DataFrame(class_type_dict)\n",
    "print (class_type)"
   ]
  },
  {
   "cell_type": "markdown",
   "id": "bc1339f7-4894-4bd2-ba19-bf7250060b38",
   "metadata": {},
   "source": [
    "##### merges df and class_type datasets"
   ]
  },
  {
   "cell_type": "code",
   "execution_count": 6,
   "id": "41023dc6-82d3-46ce-a2ba-8161c9aa16e9",
   "metadata": {},
   "outputs": [],
   "source": [
    "df = df.merge(class_type, how='left', left_on='program_id', right_on='id')"
   ]
  },
  {
   "cell_type": "code",
   "execution_count": 7,
   "id": "fd0936df-8fc3-4f46-b00b-c120a6ba7071",
   "metadata": {},
   "outputs": [
    {
     "data": {
      "text/html": [
       "<div>\n",
       "<style scoped>\n",
       "    .dataframe tbody tr th:only-of-type {\n",
       "        vertical-align: middle;\n",
       "    }\n",
       "\n",
       "    .dataframe tbody tr th {\n",
       "        vertical-align: top;\n",
       "    }\n",
       "\n",
       "    .dataframe thead th {\n",
       "        text-align: right;\n",
       "    }\n",
       "</style>\n",
       "<table border=\"1\" class=\"dataframe\">\n",
       "  <thead>\n",
       "    <tr style=\"text-align: right;\">\n",
       "      <th></th>\n",
       "      <th>date</th>\n",
       "      <th>time</th>\n",
       "      <th>path</th>\n",
       "      <th>user_id</th>\n",
       "      <th>cohort_id</th>\n",
       "      <th>ip</th>\n",
       "      <th>id_x</th>\n",
       "      <th>name</th>\n",
       "      <th>slack</th>\n",
       "      <th>start_date</th>\n",
       "      <th>end_date</th>\n",
       "      <th>created_at</th>\n",
       "      <th>updated_at</th>\n",
       "      <th>deleted_at</th>\n",
       "      <th>program_id</th>\n",
       "      <th>id_y</th>\n",
       "      <th>Name</th>\n",
       "      <th>subdomain</th>\n",
       "    </tr>\n",
       "  </thead>\n",
       "  <tbody>\n",
       "    <tr>\n",
       "      <th>0</th>\n",
       "      <td>2018-01-26</td>\n",
       "      <td>09:55:03</td>\n",
       "      <td>/</td>\n",
       "      <td>1</td>\n",
       "      <td>8.0</td>\n",
       "      <td>97.105.19.61</td>\n",
       "      <td>8.0</td>\n",
       "      <td>Hampton</td>\n",
       "      <td>#hampton</td>\n",
       "      <td>2015-09-22</td>\n",
       "      <td>2016-02-06</td>\n",
       "      <td>2016-06-14 19:52:26</td>\n",
       "      <td>2016-06-14 19:52:26</td>\n",
       "      <td>None</td>\n",
       "      <td>1.0</td>\n",
       "      <td>1.0</td>\n",
       "      <td>PHP Full Stack Web Development</td>\n",
       "      <td>php</td>\n",
       "    </tr>\n",
       "    <tr>\n",
       "      <th>1</th>\n",
       "      <td>2018-01-26</td>\n",
       "      <td>09:56:02</td>\n",
       "      <td>java-ii</td>\n",
       "      <td>1</td>\n",
       "      <td>8.0</td>\n",
       "      <td>97.105.19.61</td>\n",
       "      <td>8.0</td>\n",
       "      <td>Hampton</td>\n",
       "      <td>#hampton</td>\n",
       "      <td>2015-09-22</td>\n",
       "      <td>2016-02-06</td>\n",
       "      <td>2016-06-14 19:52:26</td>\n",
       "      <td>2016-06-14 19:52:26</td>\n",
       "      <td>None</td>\n",
       "      <td>1.0</td>\n",
       "      <td>1.0</td>\n",
       "      <td>PHP Full Stack Web Development</td>\n",
       "      <td>php</td>\n",
       "    </tr>\n",
       "    <tr>\n",
       "      <th>2</th>\n",
       "      <td>2018-01-26</td>\n",
       "      <td>09:56:05</td>\n",
       "      <td>java-ii/object-oriented-programming</td>\n",
       "      <td>1</td>\n",
       "      <td>8.0</td>\n",
       "      <td>97.105.19.61</td>\n",
       "      <td>8.0</td>\n",
       "      <td>Hampton</td>\n",
       "      <td>#hampton</td>\n",
       "      <td>2015-09-22</td>\n",
       "      <td>2016-02-06</td>\n",
       "      <td>2016-06-14 19:52:26</td>\n",
       "      <td>2016-06-14 19:52:26</td>\n",
       "      <td>None</td>\n",
       "      <td>1.0</td>\n",
       "      <td>1.0</td>\n",
       "      <td>PHP Full Stack Web Development</td>\n",
       "      <td>php</td>\n",
       "    </tr>\n",
       "    <tr>\n",
       "      <th>3</th>\n",
       "      <td>2018-01-26</td>\n",
       "      <td>09:56:06</td>\n",
       "      <td>slides/object_oriented_programming</td>\n",
       "      <td>1</td>\n",
       "      <td>8.0</td>\n",
       "      <td>97.105.19.61</td>\n",
       "      <td>8.0</td>\n",
       "      <td>Hampton</td>\n",
       "      <td>#hampton</td>\n",
       "      <td>2015-09-22</td>\n",
       "      <td>2016-02-06</td>\n",
       "      <td>2016-06-14 19:52:26</td>\n",
       "      <td>2016-06-14 19:52:26</td>\n",
       "      <td>None</td>\n",
       "      <td>1.0</td>\n",
       "      <td>1.0</td>\n",
       "      <td>PHP Full Stack Web Development</td>\n",
       "      <td>php</td>\n",
       "    </tr>\n",
       "    <tr>\n",
       "      <th>4</th>\n",
       "      <td>2018-01-26</td>\n",
       "      <td>09:56:24</td>\n",
       "      <td>javascript-i/conditionals</td>\n",
       "      <td>2</td>\n",
       "      <td>22.0</td>\n",
       "      <td>97.105.19.61</td>\n",
       "      <td>22.0</td>\n",
       "      <td>Teddy</td>\n",
       "      <td>#teddy</td>\n",
       "      <td>2018-01-08</td>\n",
       "      <td>2018-05-17</td>\n",
       "      <td>2018-01-08 13:59:10</td>\n",
       "      <td>2018-01-08 13:59:10</td>\n",
       "      <td>None</td>\n",
       "      <td>2.0</td>\n",
       "      <td>2.0</td>\n",
       "      <td>Java Full Stack Web Development</td>\n",
       "      <td>java</td>\n",
       "    </tr>\n",
       "  </tbody>\n",
       "</table>\n",
       "</div>"
      ],
      "text/plain": [
       "         date      time                                 path  user_id  \\\n",
       "0  2018-01-26  09:55:03                                    /        1   \n",
       "1  2018-01-26  09:56:02                              java-ii        1   \n",
       "2  2018-01-26  09:56:05  java-ii/object-oriented-programming        1   \n",
       "3  2018-01-26  09:56:06   slides/object_oriented_programming        1   \n",
       "4  2018-01-26  09:56:24            javascript-i/conditionals        2   \n",
       "\n",
       "   cohort_id            ip  id_x     name     slack  start_date    end_date  \\\n",
       "0        8.0  97.105.19.61   8.0  Hampton  #hampton  2015-09-22  2016-02-06   \n",
       "1        8.0  97.105.19.61   8.0  Hampton  #hampton  2015-09-22  2016-02-06   \n",
       "2        8.0  97.105.19.61   8.0  Hampton  #hampton  2015-09-22  2016-02-06   \n",
       "3        8.0  97.105.19.61   8.0  Hampton  #hampton  2015-09-22  2016-02-06   \n",
       "4       22.0  97.105.19.61  22.0    Teddy    #teddy  2018-01-08  2018-05-17   \n",
       "\n",
       "            created_at           updated_at deleted_at  program_id  id_y  \\\n",
       "0  2016-06-14 19:52:26  2016-06-14 19:52:26       None         1.0   1.0   \n",
       "1  2016-06-14 19:52:26  2016-06-14 19:52:26       None         1.0   1.0   \n",
       "2  2016-06-14 19:52:26  2016-06-14 19:52:26       None         1.0   1.0   \n",
       "3  2016-06-14 19:52:26  2016-06-14 19:52:26       None         1.0   1.0   \n",
       "4  2018-01-08 13:59:10  2018-01-08 13:59:10       None         2.0   2.0   \n",
       "\n",
       "                              Name subdomain  \n",
       "0   PHP Full Stack Web Development       php  \n",
       "1   PHP Full Stack Web Development       php  \n",
       "2   PHP Full Stack Web Development       php  \n",
       "3   PHP Full Stack Web Development       php  \n",
       "4  Java Full Stack Web Development      java  "
      ]
     },
     "execution_count": 7,
     "metadata": {},
     "output_type": "execute_result"
    }
   ],
   "source": [
    "df.head()"
   ]
  },
  {
   "cell_type": "markdown",
   "id": "bf5103e3-5585-4085-b904-67c3a7ee4be7",
   "metadata": {},
   "source": [
    "##### caches dataset for accessibility."
   ]
  },
  {
   "cell_type": "code",
   "execution_count": 8,
   "id": "906e3d68-b117-4b41-8e3c-de2c4d3779d6",
   "metadata": {},
   "outputs": [],
   "source": [
    "df.to_csv('/Users/hector/codeup-data-science/anomaly-detection-project/log_data.csv')"
   ]
  },
  {
   "cell_type": "markdown",
   "id": "6ef5ab62-4a52-42f8-9fc0-7056c8e967b4",
   "metadata": {},
   "source": [
    "# Prepare"
   ]
  },
  {
   "cell_type": "markdown",
   "id": "a67de995-70b0-4919-9eb7-63829216ba66",
   "metadata": {},
   "source": [
    "##### bring in logs dataframe for prep"
   ]
  },
  {
   "cell_type": "code",
   "execution_count": 9,
   "id": "3811035a-58e6-4ba3-8c9a-8b1df1ffb0dc",
   "metadata": {},
   "outputs": [
    {
     "data": {
      "text/html": [
       "<div>\n",
       "<style scoped>\n",
       "    .dataframe tbody tr th:only-of-type {\n",
       "        vertical-align: middle;\n",
       "    }\n",
       "\n",
       "    .dataframe tbody tr th {\n",
       "        vertical-align: top;\n",
       "    }\n",
       "\n",
       "    .dataframe thead th {\n",
       "        text-align: right;\n",
       "    }\n",
       "</style>\n",
       "<table border=\"1\" class=\"dataframe\">\n",
       "  <thead>\n",
       "    <tr style=\"text-align: right;\">\n",
       "      <th></th>\n",
       "      <th>date</th>\n",
       "      <th>time</th>\n",
       "      <th>path</th>\n",
       "      <th>user_id</th>\n",
       "      <th>cohort_id</th>\n",
       "      <th>ip</th>\n",
       "      <th>id_x</th>\n",
       "      <th>name</th>\n",
       "      <th>slack</th>\n",
       "      <th>start_date</th>\n",
       "      <th>end_date</th>\n",
       "      <th>created_at</th>\n",
       "      <th>updated_at</th>\n",
       "      <th>deleted_at</th>\n",
       "      <th>program_id</th>\n",
       "      <th>id_y</th>\n",
       "      <th>Name</th>\n",
       "      <th>subdomain</th>\n",
       "    </tr>\n",
       "  </thead>\n",
       "  <tbody>\n",
       "    <tr>\n",
       "      <th>0</th>\n",
       "      <td>2018-01-26</td>\n",
       "      <td>09:55:03</td>\n",
       "      <td>/</td>\n",
       "      <td>1</td>\n",
       "      <td>8.0</td>\n",
       "      <td>97.105.19.61</td>\n",
       "      <td>8.0</td>\n",
       "      <td>Hampton</td>\n",
       "      <td>#hampton</td>\n",
       "      <td>2015-09-22</td>\n",
       "      <td>2016-02-06</td>\n",
       "      <td>2016-06-14 19:52:26</td>\n",
       "      <td>2016-06-14 19:52:26</td>\n",
       "      <td>None</td>\n",
       "      <td>1.0</td>\n",
       "      <td>1.0</td>\n",
       "      <td>PHP Full Stack Web Development</td>\n",
       "      <td>php</td>\n",
       "    </tr>\n",
       "    <tr>\n",
       "      <th>1</th>\n",
       "      <td>2018-01-26</td>\n",
       "      <td>09:56:02</td>\n",
       "      <td>java-ii</td>\n",
       "      <td>1</td>\n",
       "      <td>8.0</td>\n",
       "      <td>97.105.19.61</td>\n",
       "      <td>8.0</td>\n",
       "      <td>Hampton</td>\n",
       "      <td>#hampton</td>\n",
       "      <td>2015-09-22</td>\n",
       "      <td>2016-02-06</td>\n",
       "      <td>2016-06-14 19:52:26</td>\n",
       "      <td>2016-06-14 19:52:26</td>\n",
       "      <td>None</td>\n",
       "      <td>1.0</td>\n",
       "      <td>1.0</td>\n",
       "      <td>PHP Full Stack Web Development</td>\n",
       "      <td>php</td>\n",
       "    </tr>\n",
       "    <tr>\n",
       "      <th>2</th>\n",
       "      <td>2018-01-26</td>\n",
       "      <td>09:56:05</td>\n",
       "      <td>java-ii/object-oriented-programming</td>\n",
       "      <td>1</td>\n",
       "      <td>8.0</td>\n",
       "      <td>97.105.19.61</td>\n",
       "      <td>8.0</td>\n",
       "      <td>Hampton</td>\n",
       "      <td>#hampton</td>\n",
       "      <td>2015-09-22</td>\n",
       "      <td>2016-02-06</td>\n",
       "      <td>2016-06-14 19:52:26</td>\n",
       "      <td>2016-06-14 19:52:26</td>\n",
       "      <td>None</td>\n",
       "      <td>1.0</td>\n",
       "      <td>1.0</td>\n",
       "      <td>PHP Full Stack Web Development</td>\n",
       "      <td>php</td>\n",
       "    </tr>\n",
       "    <tr>\n",
       "      <th>3</th>\n",
       "      <td>2018-01-26</td>\n",
       "      <td>09:56:06</td>\n",
       "      <td>slides/object_oriented_programming</td>\n",
       "      <td>1</td>\n",
       "      <td>8.0</td>\n",
       "      <td>97.105.19.61</td>\n",
       "      <td>8.0</td>\n",
       "      <td>Hampton</td>\n",
       "      <td>#hampton</td>\n",
       "      <td>2015-09-22</td>\n",
       "      <td>2016-02-06</td>\n",
       "      <td>2016-06-14 19:52:26</td>\n",
       "      <td>2016-06-14 19:52:26</td>\n",
       "      <td>None</td>\n",
       "      <td>1.0</td>\n",
       "      <td>1.0</td>\n",
       "      <td>PHP Full Stack Web Development</td>\n",
       "      <td>php</td>\n",
       "    </tr>\n",
       "    <tr>\n",
       "      <th>4</th>\n",
       "      <td>2018-01-26</td>\n",
       "      <td>09:56:24</td>\n",
       "      <td>javascript-i/conditionals</td>\n",
       "      <td>2</td>\n",
       "      <td>22.0</td>\n",
       "      <td>97.105.19.61</td>\n",
       "      <td>22.0</td>\n",
       "      <td>Teddy</td>\n",
       "      <td>#teddy</td>\n",
       "      <td>2018-01-08</td>\n",
       "      <td>2018-05-17</td>\n",
       "      <td>2018-01-08 13:59:10</td>\n",
       "      <td>2018-01-08 13:59:10</td>\n",
       "      <td>None</td>\n",
       "      <td>2.0</td>\n",
       "      <td>2.0</td>\n",
       "      <td>Java Full Stack Web Development</td>\n",
       "      <td>java</td>\n",
       "    </tr>\n",
       "  </tbody>\n",
       "</table>\n",
       "</div>"
      ],
      "text/plain": [
       "         date      time                                 path  user_id  \\\n",
       "0  2018-01-26  09:55:03                                    /        1   \n",
       "1  2018-01-26  09:56:02                              java-ii        1   \n",
       "2  2018-01-26  09:56:05  java-ii/object-oriented-programming        1   \n",
       "3  2018-01-26  09:56:06   slides/object_oriented_programming        1   \n",
       "4  2018-01-26  09:56:24            javascript-i/conditionals        2   \n",
       "\n",
       "   cohort_id            ip  id_x     name     slack  start_date    end_date  \\\n",
       "0        8.0  97.105.19.61   8.0  Hampton  #hampton  2015-09-22  2016-02-06   \n",
       "1        8.0  97.105.19.61   8.0  Hampton  #hampton  2015-09-22  2016-02-06   \n",
       "2        8.0  97.105.19.61   8.0  Hampton  #hampton  2015-09-22  2016-02-06   \n",
       "3        8.0  97.105.19.61   8.0  Hampton  #hampton  2015-09-22  2016-02-06   \n",
       "4       22.0  97.105.19.61  22.0    Teddy    #teddy  2018-01-08  2018-05-17   \n",
       "\n",
       "            created_at           updated_at deleted_at  program_id  id_y  \\\n",
       "0  2016-06-14 19:52:26  2016-06-14 19:52:26       None         1.0   1.0   \n",
       "1  2016-06-14 19:52:26  2016-06-14 19:52:26       None         1.0   1.0   \n",
       "2  2016-06-14 19:52:26  2016-06-14 19:52:26       None         1.0   1.0   \n",
       "3  2016-06-14 19:52:26  2016-06-14 19:52:26       None         1.0   1.0   \n",
       "4  2018-01-08 13:59:10  2018-01-08 13:59:10       None         2.0   2.0   \n",
       "\n",
       "                              Name subdomain  \n",
       "0   PHP Full Stack Web Development       php  \n",
       "1   PHP Full Stack Web Development       php  \n",
       "2   PHP Full Stack Web Development       php  \n",
       "3   PHP Full Stack Web Development       php  \n",
       "4  Java Full Stack Web Development      java  "
      ]
     },
     "execution_count": 9,
     "metadata": {},
     "output_type": "execute_result"
    }
   ],
   "source": [
    "df.head()"
   ]
  },
  {
   "cell_type": "code",
   "execution_count": 10,
   "id": "c5b326cc-0e6b-4c12-bde9-cf0b8bdc75a1",
   "metadata": {},
   "outputs": [
    {
     "data": {
      "text/plain": [
       "(900223, 18)"
      ]
     },
     "execution_count": 10,
     "metadata": {},
     "output_type": "execute_result"
    }
   ],
   "source": [
    "df.shape"
   ]
  },
  {
   "cell_type": "code",
   "execution_count": 11,
   "id": "87b8ffa5-db6f-4f2b-aca0-ed93e0222f36",
   "metadata": {},
   "outputs": [
    {
     "data": {
      "text/html": [
       "<div>\n",
       "<style scoped>\n",
       "    .dataframe tbody tr th:only-of-type {\n",
       "        vertical-align: middle;\n",
       "    }\n",
       "\n",
       "    .dataframe tbody tr th {\n",
       "        vertical-align: top;\n",
       "    }\n",
       "\n",
       "    .dataframe thead th {\n",
       "        text-align: right;\n",
       "    }\n",
       "</style>\n",
       "<table border=\"1\" class=\"dataframe\">\n",
       "  <thead>\n",
       "    <tr style=\"text-align: right;\">\n",
       "      <th></th>\n",
       "      <th>count</th>\n",
       "      <th>mean</th>\n",
       "      <th>std</th>\n",
       "      <th>min</th>\n",
       "      <th>25%</th>\n",
       "      <th>50%</th>\n",
       "      <th>75%</th>\n",
       "      <th>max</th>\n",
       "    </tr>\n",
       "  </thead>\n",
       "  <tbody>\n",
       "    <tr>\n",
       "      <th>user_id</th>\n",
       "      <td>900223.0</td>\n",
       "      <td>458.825707</td>\n",
       "      <td>249.296767</td>\n",
       "      <td>1.0</td>\n",
       "      <td>269.0</td>\n",
       "      <td>475.0</td>\n",
       "      <td>660.0</td>\n",
       "      <td>981.0</td>\n",
       "    </tr>\n",
       "    <tr>\n",
       "      <th>cohort_id</th>\n",
       "      <td>847330.0</td>\n",
       "      <td>48.501049</td>\n",
       "      <td>32.795482</td>\n",
       "      <td>1.0</td>\n",
       "      <td>28.0</td>\n",
       "      <td>33.0</td>\n",
       "      <td>57.0</td>\n",
       "      <td>139.0</td>\n",
       "    </tr>\n",
       "    <tr>\n",
       "      <th>id_x</th>\n",
       "      <td>847330.0</td>\n",
       "      <td>48.501049</td>\n",
       "      <td>32.795482</td>\n",
       "      <td>1.0</td>\n",
       "      <td>28.0</td>\n",
       "      <td>33.0</td>\n",
       "      <td>57.0</td>\n",
       "      <td>139.0</td>\n",
       "    </tr>\n",
       "    <tr>\n",
       "      <th>program_id</th>\n",
       "      <td>847330.0</td>\n",
       "      <td>2.086004</td>\n",
       "      <td>0.388231</td>\n",
       "      <td>1.0</td>\n",
       "      <td>2.0</td>\n",
       "      <td>2.0</td>\n",
       "      <td>2.0</td>\n",
       "      <td>4.0</td>\n",
       "    </tr>\n",
       "    <tr>\n",
       "      <th>id_y</th>\n",
       "      <td>847330.0</td>\n",
       "      <td>2.086004</td>\n",
       "      <td>0.388231</td>\n",
       "      <td>1.0</td>\n",
       "      <td>2.0</td>\n",
       "      <td>2.0</td>\n",
       "      <td>2.0</td>\n",
       "      <td>4.0</td>\n",
       "    </tr>\n",
       "  </tbody>\n",
       "</table>\n",
       "</div>"
      ],
      "text/plain": [
       "               count        mean         std  min    25%    50%    75%    max\n",
       "user_id     900223.0  458.825707  249.296767  1.0  269.0  475.0  660.0  981.0\n",
       "cohort_id   847330.0   48.501049   32.795482  1.0   28.0   33.0   57.0  139.0\n",
       "id_x        847330.0   48.501049   32.795482  1.0   28.0   33.0   57.0  139.0\n",
       "program_id  847330.0    2.086004    0.388231  1.0    2.0    2.0    2.0    4.0\n",
       "id_y        847330.0    2.086004    0.388231  1.0    2.0    2.0    2.0    4.0"
      ]
     },
     "execution_count": 11,
     "metadata": {},
     "output_type": "execute_result"
    }
   ],
   "source": [
    "df.describe().T"
   ]
  },
  {
   "cell_type": "code",
   "execution_count": 12,
   "id": "b05b7f69-b7a9-4196-adcb-1bdd17f9251b",
   "metadata": {},
   "outputs": [
    {
     "name": "stdout",
     "output_type": "stream",
     "text": [
      "<class 'pandas.core.frame.DataFrame'>\n",
      "Int64Index: 900223 entries, 0 to 900222\n",
      "Data columns (total 18 columns):\n",
      " #   Column      Non-Null Count   Dtype  \n",
      "---  ------      --------------   -----  \n",
      " 0   date        900223 non-null  object \n",
      " 1   time        900223 non-null  object \n",
      " 2   path        900222 non-null  object \n",
      " 3   user_id     900223 non-null  int64  \n",
      " 4   cohort_id   847330 non-null  float64\n",
      " 5   ip          900223 non-null  object \n",
      " 6   id_x        847330 non-null  float64\n",
      " 7   name        847330 non-null  object \n",
      " 8   slack       847330 non-null  object \n",
      " 9   start_date  847330 non-null  object \n",
      " 10  end_date    847330 non-null  object \n",
      " 11  created_at  847330 non-null  object \n",
      " 12  updated_at  847330 non-null  object \n",
      " 13  deleted_at  0 non-null       object \n",
      " 14  program_id  847330 non-null  float64\n",
      " 15  id_y        847330 non-null  float64\n",
      " 16  Name        847330 non-null  object \n",
      " 17  subdomain   847330 non-null  object \n",
      "dtypes: float64(4), int64(1), object(13)\n",
      "memory usage: 130.5+ MB\n"
     ]
    }
   ],
   "source": [
    "df.info()"
   ]
  },
  {
   "cell_type": "code",
   "execution_count": 13,
   "id": "a7832ac7-1ca4-4571-a95e-ae5aee711911",
   "metadata": {},
   "outputs": [
    {
     "name": "stdout",
     "output_type": "stream",
     "text": [
      "<class 'pandas.core.frame.DataFrame'>\n",
      "Int64Index: 900223 entries, 0 to 900222\n",
      "Data columns (total 18 columns):\n",
      " #   Column      Non-Null Count   Dtype  \n",
      "---  ------      --------------   -----  \n",
      " 0   date        900223 non-null  object \n",
      " 1   time        900223 non-null  object \n",
      " 2   path        900222 non-null  object \n",
      " 3   user_id     900223 non-null  int64  \n",
      " 4   cohort_id   847330 non-null  float64\n",
      " 5   ip          900223 non-null  object \n",
      " 6   id_x        847330 non-null  float64\n",
      " 7   name        847330 non-null  object \n",
      " 8   slack       847330 non-null  object \n",
      " 9   start_date  847330 non-null  object \n",
      " 10  end_date    847330 non-null  object \n",
      " 11  created_at  847330 non-null  object \n",
      " 12  updated_at  847330 non-null  object \n",
      " 13  deleted_at  0 non-null       object \n",
      " 14  program_id  847330 non-null  float64\n",
      " 15  id_y        847330 non-null  float64\n",
      " 16  Name        847330 non-null  object \n",
      " 17  subdomain   847330 non-null  object \n",
      "dtypes: float64(4), int64(1), object(13)\n",
      "memory usage: 130.5+ MB\n"
     ]
    }
   ],
   "source": [
    "df.info()"
   ]
  },
  {
   "cell_type": "code",
   "execution_count": 14,
   "id": "52a56380-5e9f-409d-9333-c9db07827519",
   "metadata": {},
   "outputs": [],
   "source": [
    "#splits the path into two colums, I will keep 'path_2' and drop 'path'\n",
    "df['path_2'] = df.path.str.split('/').str[1]"
   ]
  },
  {
   "cell_type": "code",
   "execution_count": 15,
   "id": "066d9dc8-983d-42f9-a57f-de776f6f8304",
   "metadata": {},
   "outputs": [],
   "source": [
    "#Found empty string values in path_2. This code replaces the empty cells with 'NaN'\n",
    "#in order to drop nulls later.\n",
    "df['path_2'].replace('', np.nan, inplace=True)"
   ]
  },
  {
   "cell_type": "code",
   "execution_count": 16,
   "id": "5a778581-96e7-413b-af10-2109da554c66",
   "metadata": {},
   "outputs": [],
   "source": [
    "#merge date and time columns\n",
    "df['date'] = df['date'] +' '+ df['time']#concat time and date"
   ]
  },
  {
   "cell_type": "code",
   "execution_count": 17,
   "id": "d20a85d2-95a5-4a39-b19b-d2a41c671ffb",
   "metadata": {},
   "outputs": [],
   "source": [
    "#datetime conversion and set index   \n",
    "df['date'] = pd.to_datetime(df['date'])\n",
    "df = df.set_index('date').sort_index()"
   ]
  },
  {
   "cell_type": "code",
   "execution_count": 18,
   "id": "3053962c-5989-483c-96eb-420724ed223a",
   "metadata": {},
   "outputs": [],
   "source": [
    "#drop columns. these columns have no use.\n",
    "df = df.drop(columns=['time', 'id_x', 'slack', 'id_y', 'Name', 'deleted_at', 'path'])"
   ]
  },
  {
   "cell_type": "code",
   "execution_count": 19,
   "id": "c5d04fbb-a5b1-4e57-a1f6-26b4d424ecb0",
   "metadata": {},
   "outputs": [],
   "source": [
    "#rename columns\n",
    "df = df.rename(columns = {'name':'cohort', 'start_date':'class_start_date', 'end_date':'class_end_date'})    "
   ]
  },
  {
   "cell_type": "code",
   "execution_count": 20,
   "id": "3bfd0ab0-3d39-4bef-8d4e-a45a936ed042",
   "metadata": {},
   "outputs": [
    {
     "data": {
      "text/plain": [
       "user_id                  0\n",
       "cohort_id            52893\n",
       "ip                       0\n",
       "cohort               52893\n",
       "class_start_date     52893\n",
       "class_end_date       52893\n",
       "created_at           52893\n",
       "updated_at           52893\n",
       "program_id           52893\n",
       "subdomain            52893\n",
       "path_2              218665\n",
       "dtype: int64"
      ]
     },
     "execution_count": 20,
     "metadata": {},
     "output_type": "execute_result"
    }
   ],
   "source": [
    "df.isnull().sum()"
   ]
  },
  {
   "cell_type": "code",
   "execution_count": 21,
   "id": "be7e6d05-990d-4631-81c8-0a728efc1bc1",
   "metadata": {},
   "outputs": [],
   "source": [
    "#drops nulls (rows)\n",
    "df = df.dropna()"
   ]
  },
  {
   "cell_type": "code",
   "execution_count": 22,
   "id": "b69bd9ac-fae5-4c84-ad6c-11521bf222b3",
   "metadata": {},
   "outputs": [
    {
     "data": {
      "text/plain": [
       "user_id             0\n",
       "cohort_id           0\n",
       "ip                  0\n",
       "cohort              0\n",
       "class_start_date    0\n",
       "class_end_date      0\n",
       "created_at          0\n",
       "updated_at          0\n",
       "program_id          0\n",
       "subdomain           0\n",
       "path_2              0\n",
       "dtype: int64"
      ]
     },
     "execution_count": 22,
     "metadata": {},
     "output_type": "execute_result"
    }
   ],
   "source": [
    "df.isnull().sum()"
   ]
  },
  {
   "cell_type": "code",
   "execution_count": 23,
   "id": "89797d14-6598-47a0-b19d-f7d63357b2c2",
   "metadata": {
    "tags": []
   },
   "outputs": [],
   "source": [
    "#converts dtypes for listed features\n",
    "convert_dict_int = {'cohort_id':int, 'program_id':int, 'class_start_date':'datetime64[ns]', 'class_end_date':'datetime64[ns]', 'created_at':'datetime64[ns]', 'updated_at':'datetime64[ns]'}\n",
    "df = df.astype(convert_dict_int)"
   ]
  },
  {
   "cell_type": "code",
   "execution_count": 24,
   "id": "12e12e8f-c14f-4737-880b-a6b4e9f56dae",
   "metadata": {},
   "outputs": [
    {
     "data": {
      "text/html": [
       "<div>\n",
       "<style scoped>\n",
       "    .dataframe tbody tr th:only-of-type {\n",
       "        vertical-align: middle;\n",
       "    }\n",
       "\n",
       "    .dataframe tbody tr th {\n",
       "        vertical-align: top;\n",
       "    }\n",
       "\n",
       "    .dataframe thead th {\n",
       "        text-align: right;\n",
       "    }\n",
       "</style>\n",
       "<table border=\"1\" class=\"dataframe\">\n",
       "  <thead>\n",
       "    <tr style=\"text-align: right;\">\n",
       "      <th></th>\n",
       "      <th>user_id</th>\n",
       "      <th>cohort_id</th>\n",
       "      <th>ip</th>\n",
       "      <th>cohort</th>\n",
       "      <th>class_start_date</th>\n",
       "      <th>class_end_date</th>\n",
       "      <th>created_at</th>\n",
       "      <th>updated_at</th>\n",
       "      <th>program_id</th>\n",
       "      <th>subdomain</th>\n",
       "      <th>path_2</th>\n",
       "    </tr>\n",
       "    <tr>\n",
       "      <th>date</th>\n",
       "      <th></th>\n",
       "      <th></th>\n",
       "      <th></th>\n",
       "      <th></th>\n",
       "      <th></th>\n",
       "      <th></th>\n",
       "      <th></th>\n",
       "      <th></th>\n",
       "      <th></th>\n",
       "      <th></th>\n",
       "      <th></th>\n",
       "    </tr>\n",
       "  </thead>\n",
       "  <tbody>\n",
       "    <tr>\n",
       "      <th>2018-01-26 09:56:05</th>\n",
       "      <td>1</td>\n",
       "      <td>8</td>\n",
       "      <td>97.105.19.61</td>\n",
       "      <td>Hampton</td>\n",
       "      <td>2015-09-22</td>\n",
       "      <td>2016-02-06</td>\n",
       "      <td>2016-06-14 19:52:26</td>\n",
       "      <td>2016-06-14 19:52:26</td>\n",
       "      <td>1</td>\n",
       "      <td>php</td>\n",
       "      <td>object-oriented-programming</td>\n",
       "    </tr>\n",
       "    <tr>\n",
       "      <th>2018-01-26 09:56:06</th>\n",
       "      <td>1</td>\n",
       "      <td>8</td>\n",
       "      <td>97.105.19.61</td>\n",
       "      <td>Hampton</td>\n",
       "      <td>2015-09-22</td>\n",
       "      <td>2016-02-06</td>\n",
       "      <td>2016-06-14 19:52:26</td>\n",
       "      <td>2016-06-14 19:52:26</td>\n",
       "      <td>1</td>\n",
       "      <td>php</td>\n",
       "      <td>object_oriented_programming</td>\n",
       "    </tr>\n",
       "    <tr>\n",
       "      <th>2018-01-26 09:56:24</th>\n",
       "      <td>2</td>\n",
       "      <td>22</td>\n",
       "      <td>97.105.19.61</td>\n",
       "      <td>Teddy</td>\n",
       "      <td>2018-01-08</td>\n",
       "      <td>2018-05-17</td>\n",
       "      <td>2018-01-08 13:59:10</td>\n",
       "      <td>2018-01-08 13:59:10</td>\n",
       "      <td>2</td>\n",
       "      <td>java</td>\n",
       "      <td>conditionals</td>\n",
       "    </tr>\n",
       "    <tr>\n",
       "      <th>2018-01-26 09:56:41</th>\n",
       "      <td>2</td>\n",
       "      <td>22</td>\n",
       "      <td>97.105.19.61</td>\n",
       "      <td>Teddy</td>\n",
       "      <td>2018-01-08</td>\n",
       "      <td>2018-05-17</td>\n",
       "      <td>2018-01-08 13:59:10</td>\n",
       "      <td>2018-01-08 13:59:10</td>\n",
       "      <td>2</td>\n",
       "      <td>java</td>\n",
       "      <td>loops</td>\n",
       "    </tr>\n",
       "    <tr>\n",
       "      <th>2018-01-26 09:56:46</th>\n",
       "      <td>3</td>\n",
       "      <td>22</td>\n",
       "      <td>97.105.19.61</td>\n",
       "      <td>Teddy</td>\n",
       "      <td>2018-01-08</td>\n",
       "      <td>2018-05-17</td>\n",
       "      <td>2018-01-08 13:59:10</td>\n",
       "      <td>2018-01-08 13:59:10</td>\n",
       "      <td>2</td>\n",
       "      <td>java</td>\n",
       "      <td>conditionals</td>\n",
       "    </tr>\n",
       "  </tbody>\n",
       "</table>\n",
       "</div>"
      ],
      "text/plain": [
       "                     user_id  cohort_id            ip   cohort  \\\n",
       "date                                                             \n",
       "2018-01-26 09:56:05        1          8  97.105.19.61  Hampton   \n",
       "2018-01-26 09:56:06        1          8  97.105.19.61  Hampton   \n",
       "2018-01-26 09:56:24        2         22  97.105.19.61    Teddy   \n",
       "2018-01-26 09:56:41        2         22  97.105.19.61    Teddy   \n",
       "2018-01-26 09:56:46        3         22  97.105.19.61    Teddy   \n",
       "\n",
       "                    class_start_date class_end_date          created_at  \\\n",
       "date                                                                      \n",
       "2018-01-26 09:56:05       2015-09-22     2016-02-06 2016-06-14 19:52:26   \n",
       "2018-01-26 09:56:06       2015-09-22     2016-02-06 2016-06-14 19:52:26   \n",
       "2018-01-26 09:56:24       2018-01-08     2018-05-17 2018-01-08 13:59:10   \n",
       "2018-01-26 09:56:41       2018-01-08     2018-05-17 2018-01-08 13:59:10   \n",
       "2018-01-26 09:56:46       2018-01-08     2018-05-17 2018-01-08 13:59:10   \n",
       "\n",
       "                             updated_at  program_id subdomain  \\\n",
       "date                                                            \n",
       "2018-01-26 09:56:05 2016-06-14 19:52:26           1       php   \n",
       "2018-01-26 09:56:06 2016-06-14 19:52:26           1       php   \n",
       "2018-01-26 09:56:24 2018-01-08 13:59:10           2      java   \n",
       "2018-01-26 09:56:41 2018-01-08 13:59:10           2      java   \n",
       "2018-01-26 09:56:46 2018-01-08 13:59:10           2      java   \n",
       "\n",
       "                                          path_2  \n",
       "date                                              \n",
       "2018-01-26 09:56:05  object-oriented-programming  \n",
       "2018-01-26 09:56:06  object_oriented_programming  \n",
       "2018-01-26 09:56:24                 conditionals  \n",
       "2018-01-26 09:56:41                        loops  \n",
       "2018-01-26 09:56:46                 conditionals  "
      ]
     },
     "execution_count": 24,
     "metadata": {},
     "output_type": "execute_result"
    }
   ],
   "source": [
    "df.head()"
   ]
  },
  {
   "cell_type": "code",
   "execution_count": 25,
   "id": "44536fa8-d199-45e1-bfcd-03c5872967d5",
   "metadata": {},
   "outputs": [],
   "source": [
    "df.to_csv('/Users/hector/codeup-data-science/anomaly-detection-project/log_clean.csv')"
   ]
  },
  {
   "cell_type": "markdown",
   "id": "abaaaebc-8150-43da-b4d5-ede08696f606",
   "metadata": {},
   "source": [
    "# Explore"
   ]
  },
  {
   "cell_type": "markdown",
   "id": "5ad4b0f4-2a52-4d79-84de-ce3654f708df",
   "metadata": {},
   "source": [
    "1. Which lesson appears to attract the most traffic consistently across cohorts (per program)?"
   ]
  },
  {
   "cell_type": "code",
   "execution_count": null,
   "id": "09f88a86-b6d1-4bd9-bdc1-aed1bb295824",
   "metadata": {},
   "outputs": [],
   "source": []
  },
  {
   "cell_type": "markdown",
   "id": "b60added-3239-4e41-92bd-ca056551352f",
   "metadata": {},
   "source": [
    "2. Is there a cohort that referred to a lesson significantly more than other cohorts seemed to gloss over?"
   ]
  },
  {
   "cell_type": "code",
   "execution_count": null,
   "id": "6dbcb6a1-ddc0-437a-944c-1c382e35e5e9",
   "metadata": {},
   "outputs": [],
   "source": []
  },
  {
   "cell_type": "markdown",
   "id": "cf6a91fb-d172-4045-ad99-95343614a8f7",
   "metadata": {},
   "source": [
    "3. Are there students who, when active, hardly access the curriculum? If so, what information do you have about these students?"
   ]
  },
  {
   "cell_type": "code",
   "execution_count": null,
   "id": "e726f13d-d795-4e5f-bf13-5341814bc24e",
   "metadata": {},
   "outputs": [],
   "source": []
  },
  {
   "cell_type": "markdown",
   "id": "19268e62-b391-44d5-882d-ad3c8990be20",
   "metadata": {},
   "source": [
    "4. Is there any suspicious activity, such as users/machines/etc accessing the curriculum who shouldn’t be? Does it appear that any web-scraping is happening? Are there any suspicious IP addresses?"
   ]
  },
  {
   "cell_type": "code",
   "execution_count": null,
   "id": "aa30eb04-7d23-4e27-972c-a61c2c72c236",
   "metadata": {},
   "outputs": [],
   "source": []
  },
  {
   "cell_type": "markdown",
   "id": "644d0048-c5af-43b6-aa26-213249e4357c",
   "metadata": {},
   "source": [
    "5. At some point in 2019, the ability for students and alumni to access both curriculums (web dev to ds, ds to web dev) should have been shut off. Do you see any evidence of that happening? Did it happen before?"
   ]
  },
  {
   "cell_type": "code",
   "execution_count": null,
   "id": "5fefa7b8-98cb-4b29-9d21-6ffcce746cc2",
   "metadata": {},
   "outputs": [],
   "source": []
  },
  {
   "cell_type": "markdown",
   "id": "20848357-7141-4c86-870f-1e8027eb80e3",
   "metadata": {},
   "source": [
    "6. What topics are grads continuing to reference after graduation and into their jobs (for each program)?"
   ]
  },
  {
   "cell_type": "code",
   "execution_count": null,
   "id": "5a878515-bd7d-463d-a111-72240a4a6998",
   "metadata": {},
   "outputs": [],
   "source": []
  },
  {
   "cell_type": "markdown",
   "id": "cb4fa1cf-cee8-47d1-a7e7-3aada3a6f370",
   "metadata": {},
   "source": [
    "7. Which lessons are least accessed?"
   ]
  },
  {
   "cell_type": "code",
   "execution_count": null,
   "id": "1e3dd114-5e32-47e9-b106-d9884e69d6f8",
   "metadata": {},
   "outputs": [],
   "source": []
  },
  {
   "cell_type": "markdown",
   "id": "aea81c8d-b77f-4359-972f-31860b0977ee",
   "metadata": {},
   "source": [
    "8. Anything else I should be aware of?"
   ]
  },
  {
   "cell_type": "code",
   "execution_count": null,
   "id": "ed45aeda-4b0a-497e-b03f-b0851b7e771b",
   "metadata": {},
   "outputs": [],
   "source": []
  }
 ],
 "metadata": {
  "kernelspec": {
   "display_name": "Python 3",
   "language": "python",
   "name": "python3"
  },
  "language_info": {
   "codemirror_mode": {
    "name": "ipython",
    "version": 3
   },
   "file_extension": ".py",
   "mimetype": "text/x-python",
   "name": "python",
   "nbconvert_exporter": "python",
   "pygments_lexer": "ipython3",
   "version": "3.8.8"
  }
 },
 "nbformat": 4,
 "nbformat_minor": 5
}
