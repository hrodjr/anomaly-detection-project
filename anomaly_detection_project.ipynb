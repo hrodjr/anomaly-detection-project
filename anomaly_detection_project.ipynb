{
 "cells": [
  {
   "cell_type": "code",
   "execution_count": 1,
   "id": "3e9a2368-8967-4b9a-a2c1-6910bdaec999",
   "metadata": {},
   "outputs": [],
   "source": [
    "import pandas as pd\n",
    "import numpy as np\n",
    "import seaborn as sns\n",
    "import matplotlib.pyplot as plt\n",
    "\n",
    "import env\n",
    "from wrangle import get_log_data, prepd_data, summarize, value_counts_and_frequencies\n",
    "\n",
    "from datetime import date\n",
    "\n",
    "#ignore warnings\n",
    "import warnings\n",
    "warnings.filterwarnings('ignore')"
   ]
  },
  {
   "cell_type": "markdown",
   "id": "792e71d3-8911-4cc3-94a7-fd30c91d2597",
   "metadata": {},
   "source": [
    "# Executive Summary\n",
    "1. I have been asked to anlyze the curriculum logs for Codeup.\n",
    "2. The following questions were asked:\n",
    "    - Lessons with the most activity?\n",
    "    - Cohort lesson activity?\n",
    "    - Access by active users, any significance?\n",
    "    - Topics accessed by Alumni?\n",
    "    - Least active lessons?\n",
    "    - Report any other anomalies we may encounter?\n",
    "3. Key Takeaways\n",
    "    - One main takeawy in activity across the board showed some users were assigned as to a 'Cohort' then 'Staff' suggesting the student became an employee; possibly or bad data was entered.\n",
    "    - Time of year had an impact on activity.\n",
    "    - Increase in activity over the years - growth in activity, classes per year, added programs."
   ]
  },
  {
   "cell_type": "code",
   "execution_count": 57,
   "id": "c9265c4a-24ac-4716-9cc5-72727152a246",
   "metadata": {
    "jupyter": {
     "source_hidden": true
    },
    "tags": []
   },
   "outputs": [
    {
     "data": {
      "text/html": [
       "<div class='tableauPlaceholder' id='viz1634921393207' style='position: relative'>\n",
       "<noscript>\n",
       "<a href='#'><img alt='Anomly_Detection_Project' src='https:&#47;&#47;public.tableau.com&#47;static&#47;images&#47;An&#47;AnomalyDetectionProject_16348759484050&#47;Anomly_Detection_Project&#47;1_rss.png' style='border: none'/>\n",
       "</a>\n",
       "</noscript>\n",
       "<object class='tableauViz'  style='display:none;'><param name='host_url' value='https%3A%2F%2Fpublic.tableau.com%2F'/>\n",
       "<param name='embed_code_version' value='3' />\n",
       "<param name='site_root' value='' />\n",
       "<param name='name' value='AnomalyDetectionProject_16348759484050&#47;Anomly_Detection_Project' />\n",
       "<param name='tabs' value='no' />\n",
       "<param name='toolbar' value='yes' />\n",
       "<param name='static_image' value='https:&#47;&#47;public.tableau.com&#47;static&#47;images&#47;An&#47;AnomalyDetectionProject_16348759484050&#47;Anomly_Detection_Project&#47;1.png' />\n",
       "<param name='animate_transition' value='yes' />\n",
       "<param name='display_static_image' value='yes' />\n",
       "<param name='display_spinner' value='yes' />\n",
       "<param name='display_overlay' value='yes' />\n",
       "<param name='display_count' value='yes' />\n",
       "<param name='language' value='en-US' />\n",
       "<param name='filter' value='publish=yes' />\n",
       "</object>\n",
       "</div>\n",
       "<script type='text/javascript'>\n",
       "var divElement = document.getElementById('viz1634921393207');\n",
       "var vizElement = divElement.getElementsByTagName('object')[0];\n",
       "if ( divElement.offsetWidth > 800 ) { vizElement.style.minWidth='420px';vizElement.style.maxWidth='650px';vizElement.style.width='100%';vizElement.style.minHeight='587px';vizElement.style.maxHeight='887px';vizElement.style.height=(divElement.offsetWidth*0.75)+'px';}\n",
       "else if ( divElement.offsetWidth > 500 ) { vizElement.style.minWidth='420px';vizElement.style.maxWidth='650px';vizElement.style.width='100%';vizElement.style.minHeight='587px';vizElement.style.maxHeight='887px';vizElement.style.height=(divElement.offsetWidth*0.75)+'px';}\n",
       "else { vizElement.style.width='100%';vizElement.style.height='927px';}\n",
       "var scriptElement = document.createElement('script');\n",
       "scriptElement.src = 'https://public.tableau.com/javascripts/api/viz_v1.js';\n",
       "vizElement.parentNode.insertBefore(scriptElement, vizElement);\n",
       "</script>\n"
      ],
      "text/plain": [
       "<IPython.core.display.HTML object>"
      ]
     },
     "metadata": {},
     "output_type": "display_data"
    }
   ],
   "source": [
    "%%HTML\n",
    "<div class='tableauPlaceholder' id='viz1634921393207' style='position: relative'>\n",
    "<noscript>\n",
    "<a href='#'><img alt='Anomly_Detection_Project' src='https:&#47;&#47;public.tableau.com&#47;static&#47;images&#47;An&#47;AnomalyDetectionProject_16348759484050&#47;Anomly_Detection_Project&#47;1_rss.png' style='border: none'/>\n",
    "</a>\n",
    "</noscript>\n",
    "<object class='tableauViz'  style='display:none;'><param name='host_url' value='https%3A%2F%2Fpublic.tableau.com%2F'/>\n",
    "<param name='embed_code_version' value='3' />\n",
    "<param name='site_root' value='' />\n",
    "<param name='name' value='AnomalyDetectionProject_16348759484050&#47;Anomly_Detection_Project' />\n",
    "<param name='tabs' value='no' />\n",
    "<param name='toolbar' value='yes' />\n",
    "<param name='static_image' value='https:&#47;&#47;public.tableau.com&#47;static&#47;images&#47;An&#47;AnomalyDetectionProject_16348759484050&#47;Anomly_Detection_Project&#47;1.png' />\n",
    "<param name='animate_transition' value='yes' />\n",
    "<param name='display_static_image' value='yes' />\n",
    "<param name='display_spinner' value='yes' />\n",
    "<param name='display_overlay' value='yes' />\n",
    "<param name='display_count' value='yes' />\n",
    "<param name='language' value='en-US' />\n",
    "<param name='filter' value='publish=yes' />\n",
    "</object>\n",
    "</div>\n",
    "<script type='text/javascript'>\n",
    "var divElement = document.getElementById('viz1634921393207');\n",
    "var vizElement = divElement.getElementsByTagName('object')[0];\n",
    "if ( divElement.offsetWidth > 800 ) { vizElement.style.minWidth='420px';vizElement.style.maxWidth='650px';vizElement.style.width='100%';vizElement.style.minHeight='587px';vizElement.style.maxHeight='887px';vizElement.style.height=(divElement.offsetWidth*0.75)+'px';}\n",
    "else if ( divElement.offsetWidth > 500 ) { vizElement.style.minWidth='420px';vizElement.style.maxWidth='650px';vizElement.style.width='100%';vizElement.style.minHeight='587px';vizElement.style.maxHeight='887px';vizElement.style.height=(divElement.offsetWidth*0.75)+'px';}\n",
    "else { vizElement.style.width='100%';vizElement.style.height='927px';}\n",
    "var scriptElement = document.createElement('script');\n",
    "scriptElement.src = 'https://public.tableau.com/javascripts/api/viz_v1.js';\n",
    "vizElement.parentNode.insertBefore(scriptElement, vizElement);\n",
    "</script>"
   ]
  },
  {
   "cell_type": "markdown",
   "id": "b76e2181-5537-4a06-b639-27ca80b5cf7b",
   "metadata": {},
   "source": [
    "### Plan\n",
    "1. Acquire and prepare curriculum logs.\n",
    "2. Analysis based on Anomaly Detection and ran through the data pipeline.\n",
    "3. A copy of the cleaned dataset is available below.\n",
    "4. Planning was done via <a href=\"https://www.w3schools.com\">Trello</a>."
   ]
  },
  {
   "cell_type": "markdown",
   "id": "60f5b5ba-17b4-41de-b5b2-a70b66727c77",
   "metadata": {},
   "source": [
    "# Acquire"
   ]
  },
  {
   "cell_type": "code",
   "execution_count": 2,
   "id": "7e2ea326-ff24-40dc-afba-f6296687b5ae",
   "metadata": {},
   "outputs": [
    {
     "data": {
      "text/html": [
       "<div>\n",
       "<style scoped>\n",
       "    .dataframe tbody tr th:only-of-type {\n",
       "        vertical-align: middle;\n",
       "    }\n",
       "\n",
       "    .dataframe tbody tr th {\n",
       "        vertical-align: top;\n",
       "    }\n",
       "\n",
       "    .dataframe thead th {\n",
       "        text-align: right;\n",
       "    }\n",
       "</style>\n",
       "<table border=\"1\" class=\"dataframe\">\n",
       "  <thead>\n",
       "    <tr style=\"text-align: right;\">\n",
       "      <th></th>\n",
       "      <th>date</th>\n",
       "      <th>time</th>\n",
       "      <th>path</th>\n",
       "      <th>user_id</th>\n",
       "      <th>cohort_id</th>\n",
       "      <th>ip</th>\n",
       "      <th>id</th>\n",
       "      <th>name</th>\n",
       "      <th>slack</th>\n",
       "      <th>start_date</th>\n",
       "      <th>end_date</th>\n",
       "      <th>created_at</th>\n",
       "      <th>updated_at</th>\n",
       "      <th>deleted_at</th>\n",
       "      <th>program_id</th>\n",
       "    </tr>\n",
       "  </thead>\n",
       "  <tbody>\n",
       "    <tr>\n",
       "      <th>0</th>\n",
       "      <td>2018-01-26</td>\n",
       "      <td>09:55:03</td>\n",
       "      <td>/</td>\n",
       "      <td>1</td>\n",
       "      <td>8.0</td>\n",
       "      <td>97.105.19.61</td>\n",
       "      <td>8.0</td>\n",
       "      <td>Hampton</td>\n",
       "      <td>#hampton</td>\n",
       "      <td>2015-09-22</td>\n",
       "      <td>2016-02-06</td>\n",
       "      <td>2016-06-14 19:52:26</td>\n",
       "      <td>2016-06-14 19:52:26</td>\n",
       "      <td>None</td>\n",
       "      <td>1.0</td>\n",
       "    </tr>\n",
       "    <tr>\n",
       "      <th>1</th>\n",
       "      <td>2018-01-26</td>\n",
       "      <td>09:56:02</td>\n",
       "      <td>java-ii</td>\n",
       "      <td>1</td>\n",
       "      <td>8.0</td>\n",
       "      <td>97.105.19.61</td>\n",
       "      <td>8.0</td>\n",
       "      <td>Hampton</td>\n",
       "      <td>#hampton</td>\n",
       "      <td>2015-09-22</td>\n",
       "      <td>2016-02-06</td>\n",
       "      <td>2016-06-14 19:52:26</td>\n",
       "      <td>2016-06-14 19:52:26</td>\n",
       "      <td>None</td>\n",
       "      <td>1.0</td>\n",
       "    </tr>\n",
       "    <tr>\n",
       "      <th>2</th>\n",
       "      <td>2018-01-26</td>\n",
       "      <td>09:56:05</td>\n",
       "      <td>java-ii/object-oriented-programming</td>\n",
       "      <td>1</td>\n",
       "      <td>8.0</td>\n",
       "      <td>97.105.19.61</td>\n",
       "      <td>8.0</td>\n",
       "      <td>Hampton</td>\n",
       "      <td>#hampton</td>\n",
       "      <td>2015-09-22</td>\n",
       "      <td>2016-02-06</td>\n",
       "      <td>2016-06-14 19:52:26</td>\n",
       "      <td>2016-06-14 19:52:26</td>\n",
       "      <td>None</td>\n",
       "      <td>1.0</td>\n",
       "    </tr>\n",
       "    <tr>\n",
       "      <th>3</th>\n",
       "      <td>2018-01-26</td>\n",
       "      <td>09:56:06</td>\n",
       "      <td>slides/object_oriented_programming</td>\n",
       "      <td>1</td>\n",
       "      <td>8.0</td>\n",
       "      <td>97.105.19.61</td>\n",
       "      <td>8.0</td>\n",
       "      <td>Hampton</td>\n",
       "      <td>#hampton</td>\n",
       "      <td>2015-09-22</td>\n",
       "      <td>2016-02-06</td>\n",
       "      <td>2016-06-14 19:52:26</td>\n",
       "      <td>2016-06-14 19:52:26</td>\n",
       "      <td>None</td>\n",
       "      <td>1.0</td>\n",
       "    </tr>\n",
       "    <tr>\n",
       "      <th>4</th>\n",
       "      <td>2018-01-26</td>\n",
       "      <td>09:56:24</td>\n",
       "      <td>javascript-i/conditionals</td>\n",
       "      <td>2</td>\n",
       "      <td>22.0</td>\n",
       "      <td>97.105.19.61</td>\n",
       "      <td>22.0</td>\n",
       "      <td>Teddy</td>\n",
       "      <td>#teddy</td>\n",
       "      <td>2018-01-08</td>\n",
       "      <td>2018-05-17</td>\n",
       "      <td>2018-01-08 13:59:10</td>\n",
       "      <td>2018-01-08 13:59:10</td>\n",
       "      <td>None</td>\n",
       "      <td>2.0</td>\n",
       "    </tr>\n",
       "  </tbody>\n",
       "</table>\n",
       "</div>"
      ],
      "text/plain": [
       "         date      time                                 path  user_id  \\\n",
       "0  2018-01-26  09:55:03                                    /        1   \n",
       "1  2018-01-26  09:56:02                              java-ii        1   \n",
       "2  2018-01-26  09:56:05  java-ii/object-oriented-programming        1   \n",
       "3  2018-01-26  09:56:06   slides/object_oriented_programming        1   \n",
       "4  2018-01-26  09:56:24            javascript-i/conditionals        2   \n",
       "\n",
       "   cohort_id            ip    id     name     slack  start_date    end_date  \\\n",
       "0        8.0  97.105.19.61   8.0  Hampton  #hampton  2015-09-22  2016-02-06   \n",
       "1        8.0  97.105.19.61   8.0  Hampton  #hampton  2015-09-22  2016-02-06   \n",
       "2        8.0  97.105.19.61   8.0  Hampton  #hampton  2015-09-22  2016-02-06   \n",
       "3        8.0  97.105.19.61   8.0  Hampton  #hampton  2015-09-22  2016-02-06   \n",
       "4       22.0  97.105.19.61  22.0    Teddy    #teddy  2018-01-08  2018-05-17   \n",
       "\n",
       "            created_at           updated_at deleted_at  program_id  \n",
       "0  2016-06-14 19:52:26  2016-06-14 19:52:26       None         1.0  \n",
       "1  2016-06-14 19:52:26  2016-06-14 19:52:26       None         1.0  \n",
       "2  2016-06-14 19:52:26  2016-06-14 19:52:26       None         1.0  \n",
       "3  2016-06-14 19:52:26  2016-06-14 19:52:26       None         1.0  \n",
       "4  2018-01-08 13:59:10  2018-01-08 13:59:10       None         2.0  "
      ]
     },
     "execution_count": 2,
     "metadata": {},
     "output_type": "execute_result"
    }
   ],
   "source": [
    "df = get_log_data()\n",
    "df.head()"
   ]
  },
  {
   "cell_type": "markdown",
   "id": "d33bbe04-d0fc-4ccb-accc-60cda4ab7f80",
   "metadata": {},
   "source": [
    "##### I created a dictionary with the class types to merge to the df by 'program id'."
   ]
  },
  {
   "cell_type": "code",
   "execution_count": 3,
   "id": "5f90b9ac-1751-4460-93a5-06c8eadced42",
   "metadata": {},
   "outputs": [
    {
     "name": "stdout",
     "output_type": "stream",
     "text": [
      "   id                             Name subdomain\n",
      "0   1   PHP Full Stack Web Development       php\n",
      "1   2  Java Full Stack Web Development      java\n",
      "2   3                     Data Science        ds\n",
      "3   4        Front End Web Development        fe\n"
     ]
    }
   ],
   "source": [
    "class_type_dict = {'id':[1, 2, 3, 4],\n",
    "        'Name':['PHP Full Stack Web Development', \n",
    "                'Java Full Stack Web Development', \n",
    "                'Data Science', \n",
    "                'Front End Web Development'],\n",
    "        'subdomain':['php','java','ds','fe']}\n",
    "class_type = pd.DataFrame(class_type_dict)\n",
    "print (class_type)"
   ]
  },
  {
   "cell_type": "code",
   "execution_count": 4,
   "id": "9e9b39d9-a6df-494b-a77b-c33359fb56d9",
   "metadata": {},
   "outputs": [],
   "source": [
    "#merge df and class_type datasets\n",
    "df = df.merge(class_type, how='left', left_on='program_id', right_on='id')"
   ]
  },
  {
   "cell_type": "code",
   "execution_count": 5,
   "id": "1ea81a10-2695-4c53-b838-c72fcdb8f17d",
   "metadata": {},
   "outputs": [
    {
     "data": {
      "text/html": [
       "<div>\n",
       "<style scoped>\n",
       "    .dataframe tbody tr th:only-of-type {\n",
       "        vertical-align: middle;\n",
       "    }\n",
       "\n",
       "    .dataframe tbody tr th {\n",
       "        vertical-align: top;\n",
       "    }\n",
       "\n",
       "    .dataframe thead th {\n",
       "        text-align: right;\n",
       "    }\n",
       "</style>\n",
       "<table border=\"1\" class=\"dataframe\">\n",
       "  <thead>\n",
       "    <tr style=\"text-align: right;\">\n",
       "      <th></th>\n",
       "      <th>date</th>\n",
       "      <th>time</th>\n",
       "      <th>path</th>\n",
       "      <th>user_id</th>\n",
       "      <th>cohort_id</th>\n",
       "      <th>ip</th>\n",
       "      <th>id_x</th>\n",
       "      <th>name</th>\n",
       "      <th>slack</th>\n",
       "      <th>start_date</th>\n",
       "      <th>end_date</th>\n",
       "      <th>created_at</th>\n",
       "      <th>updated_at</th>\n",
       "      <th>deleted_at</th>\n",
       "      <th>program_id</th>\n",
       "      <th>id_y</th>\n",
       "      <th>Name</th>\n",
       "      <th>subdomain</th>\n",
       "    </tr>\n",
       "  </thead>\n",
       "  <tbody>\n",
       "    <tr>\n",
       "      <th>0</th>\n",
       "      <td>2018-01-26</td>\n",
       "      <td>09:55:03</td>\n",
       "      <td>/</td>\n",
       "      <td>1</td>\n",
       "      <td>8.0</td>\n",
       "      <td>97.105.19.61</td>\n",
       "      <td>8.0</td>\n",
       "      <td>Hampton</td>\n",
       "      <td>#hampton</td>\n",
       "      <td>2015-09-22</td>\n",
       "      <td>2016-02-06</td>\n",
       "      <td>2016-06-14 19:52:26</td>\n",
       "      <td>2016-06-14 19:52:26</td>\n",
       "      <td>None</td>\n",
       "      <td>1.0</td>\n",
       "      <td>1.0</td>\n",
       "      <td>PHP Full Stack Web Development</td>\n",
       "      <td>php</td>\n",
       "    </tr>\n",
       "    <tr>\n",
       "      <th>1</th>\n",
       "      <td>2018-01-26</td>\n",
       "      <td>09:56:02</td>\n",
       "      <td>java-ii</td>\n",
       "      <td>1</td>\n",
       "      <td>8.0</td>\n",
       "      <td>97.105.19.61</td>\n",
       "      <td>8.0</td>\n",
       "      <td>Hampton</td>\n",
       "      <td>#hampton</td>\n",
       "      <td>2015-09-22</td>\n",
       "      <td>2016-02-06</td>\n",
       "      <td>2016-06-14 19:52:26</td>\n",
       "      <td>2016-06-14 19:52:26</td>\n",
       "      <td>None</td>\n",
       "      <td>1.0</td>\n",
       "      <td>1.0</td>\n",
       "      <td>PHP Full Stack Web Development</td>\n",
       "      <td>php</td>\n",
       "    </tr>\n",
       "    <tr>\n",
       "      <th>2</th>\n",
       "      <td>2018-01-26</td>\n",
       "      <td>09:56:05</td>\n",
       "      <td>java-ii/object-oriented-programming</td>\n",
       "      <td>1</td>\n",
       "      <td>8.0</td>\n",
       "      <td>97.105.19.61</td>\n",
       "      <td>8.0</td>\n",
       "      <td>Hampton</td>\n",
       "      <td>#hampton</td>\n",
       "      <td>2015-09-22</td>\n",
       "      <td>2016-02-06</td>\n",
       "      <td>2016-06-14 19:52:26</td>\n",
       "      <td>2016-06-14 19:52:26</td>\n",
       "      <td>None</td>\n",
       "      <td>1.0</td>\n",
       "      <td>1.0</td>\n",
       "      <td>PHP Full Stack Web Development</td>\n",
       "      <td>php</td>\n",
       "    </tr>\n",
       "    <tr>\n",
       "      <th>3</th>\n",
       "      <td>2018-01-26</td>\n",
       "      <td>09:56:06</td>\n",
       "      <td>slides/object_oriented_programming</td>\n",
       "      <td>1</td>\n",
       "      <td>8.0</td>\n",
       "      <td>97.105.19.61</td>\n",
       "      <td>8.0</td>\n",
       "      <td>Hampton</td>\n",
       "      <td>#hampton</td>\n",
       "      <td>2015-09-22</td>\n",
       "      <td>2016-02-06</td>\n",
       "      <td>2016-06-14 19:52:26</td>\n",
       "      <td>2016-06-14 19:52:26</td>\n",
       "      <td>None</td>\n",
       "      <td>1.0</td>\n",
       "      <td>1.0</td>\n",
       "      <td>PHP Full Stack Web Development</td>\n",
       "      <td>php</td>\n",
       "    </tr>\n",
       "    <tr>\n",
       "      <th>4</th>\n",
       "      <td>2018-01-26</td>\n",
       "      <td>09:56:24</td>\n",
       "      <td>javascript-i/conditionals</td>\n",
       "      <td>2</td>\n",
       "      <td>22.0</td>\n",
       "      <td>97.105.19.61</td>\n",
       "      <td>22.0</td>\n",
       "      <td>Teddy</td>\n",
       "      <td>#teddy</td>\n",
       "      <td>2018-01-08</td>\n",
       "      <td>2018-05-17</td>\n",
       "      <td>2018-01-08 13:59:10</td>\n",
       "      <td>2018-01-08 13:59:10</td>\n",
       "      <td>None</td>\n",
       "      <td>2.0</td>\n",
       "      <td>2.0</td>\n",
       "      <td>Java Full Stack Web Development</td>\n",
       "      <td>java</td>\n",
       "    </tr>\n",
       "  </tbody>\n",
       "</table>\n",
       "</div>"
      ],
      "text/plain": [
       "         date      time                                 path  user_id  \\\n",
       "0  2018-01-26  09:55:03                                    /        1   \n",
       "1  2018-01-26  09:56:02                              java-ii        1   \n",
       "2  2018-01-26  09:56:05  java-ii/object-oriented-programming        1   \n",
       "3  2018-01-26  09:56:06   slides/object_oriented_programming        1   \n",
       "4  2018-01-26  09:56:24            javascript-i/conditionals        2   \n",
       "\n",
       "   cohort_id            ip  id_x     name     slack  start_date    end_date  \\\n",
       "0        8.0  97.105.19.61   8.0  Hampton  #hampton  2015-09-22  2016-02-06   \n",
       "1        8.0  97.105.19.61   8.0  Hampton  #hampton  2015-09-22  2016-02-06   \n",
       "2        8.0  97.105.19.61   8.0  Hampton  #hampton  2015-09-22  2016-02-06   \n",
       "3        8.0  97.105.19.61   8.0  Hampton  #hampton  2015-09-22  2016-02-06   \n",
       "4       22.0  97.105.19.61  22.0    Teddy    #teddy  2018-01-08  2018-05-17   \n",
       "\n",
       "            created_at           updated_at deleted_at  program_id  id_y  \\\n",
       "0  2016-06-14 19:52:26  2016-06-14 19:52:26       None         1.0   1.0   \n",
       "1  2016-06-14 19:52:26  2016-06-14 19:52:26       None         1.0   1.0   \n",
       "2  2016-06-14 19:52:26  2016-06-14 19:52:26       None         1.0   1.0   \n",
       "3  2016-06-14 19:52:26  2016-06-14 19:52:26       None         1.0   1.0   \n",
       "4  2018-01-08 13:59:10  2018-01-08 13:59:10       None         2.0   2.0   \n",
       "\n",
       "                              Name subdomain  \n",
       "0   PHP Full Stack Web Development       php  \n",
       "1   PHP Full Stack Web Development       php  \n",
       "2   PHP Full Stack Web Development       php  \n",
       "3   PHP Full Stack Web Development       php  \n",
       "4  Java Full Stack Web Development      java  "
      ]
     },
     "execution_count": 5,
     "metadata": {},
     "output_type": "execute_result"
    }
   ],
   "source": [
    "df.head()"
   ]
  },
  {
   "cell_type": "code",
   "execution_count": 10,
   "id": "b7e24c31-e59f-493b-bf58-a02f2608cb68",
   "metadata": {},
   "outputs": [
    {
     "name": "stdout",
     "output_type": "stream",
     "text": [
      "(638186, 11)\n",
      "___________________________\n",
      "<class 'pandas.core.frame.DataFrame'>\n",
      "DatetimeIndex: 638186 entries, 2018-01-26 09:56:05 to 2021-04-21 16:44:39\n",
      "Data columns (total 11 columns):\n",
      " #   Column            Non-Null Count   Dtype         \n",
      "---  ------            --------------   -----         \n",
      " 0   user_id           638186 non-null  int64         \n",
      " 1   cohort_id         638186 non-null  int64         \n",
      " 2   ip                638186 non-null  object        \n",
      " 3   cohort            638186 non-null  object        \n",
      " 4   class_start_date  638186 non-null  datetime64[ns]\n",
      " 5   class_end_date    638186 non-null  datetime64[ns]\n",
      " 6   created_at        638186 non-null  datetime64[ns]\n",
      " 7   updated_at        638186 non-null  datetime64[ns]\n",
      " 8   program_id        638186 non-null  int64         \n",
      " 9   subdomain         638186 non-null  object        \n",
      " 10  path_2            638186 non-null  object        \n",
      "dtypes: datetime64[ns](4), int64(3), object(4)\n",
      "memory usage: 58.4+ MB\n",
      "None\n",
      "___________________________\n",
      "user_id             0\n",
      "cohort_id           0\n",
      "ip                  0\n",
      "cohort              0\n",
      "class_start_date    0\n",
      "class_end_date      0\n",
      "created_at          0\n",
      "updated_at          0\n",
      "program_id          0\n",
      "subdomain           0\n",
      "path_2              0\n",
      "dtype: int64\n"
     ]
    }
   ],
   "source": [
    "summarize(df)"
   ]
  },
  {
   "cell_type": "code",
   "execution_count": 6,
   "id": "58f9c8b3-3321-432a-b47a-5c02bd549dc4",
   "metadata": {},
   "outputs": [],
   "source": [
    "#cache dataset for accessibility\n",
    "df.to_csv('/Users/hector/codeup-data-science/anomaly-detection-project/log_data.csv')"
   ]
  },
  {
   "cell_type": "markdown",
   "id": "3b818912-375f-4901-833b-4c6f90494cd8",
   "metadata": {},
   "source": [
    "##### Key Takeaways"
   ]
  },
  {
   "cell_type": "markdown",
   "id": "94301bba-28be-4eee-a325-f47c4fb38390",
   "metadata": {},
   "source": [
    "# Prepare"
   ]
  },
  {
   "cell_type": "code",
   "execution_count": 7,
   "id": "02fb9ff9-52b5-4fbb-b326-422c88fd9bde",
   "metadata": {},
   "outputs": [
    {
     "data": {
      "text/html": [
       "<div>\n",
       "<style scoped>\n",
       "    .dataframe tbody tr th:only-of-type {\n",
       "        vertical-align: middle;\n",
       "    }\n",
       "\n",
       "    .dataframe tbody tr th {\n",
       "        vertical-align: top;\n",
       "    }\n",
       "\n",
       "    .dataframe thead th {\n",
       "        text-align: right;\n",
       "    }\n",
       "</style>\n",
       "<table border=\"1\" class=\"dataframe\">\n",
       "  <thead>\n",
       "    <tr style=\"text-align: right;\">\n",
       "      <th></th>\n",
       "      <th>user_id</th>\n",
       "      <th>cohort_id</th>\n",
       "      <th>ip</th>\n",
       "      <th>cohort</th>\n",
       "      <th>class_start_date</th>\n",
       "      <th>class_end_date</th>\n",
       "      <th>created_at</th>\n",
       "      <th>updated_at</th>\n",
       "      <th>program_id</th>\n",
       "      <th>subdomain</th>\n",
       "      <th>path_2</th>\n",
       "    </tr>\n",
       "    <tr>\n",
       "      <th>date</th>\n",
       "      <th></th>\n",
       "      <th></th>\n",
       "      <th></th>\n",
       "      <th></th>\n",
       "      <th></th>\n",
       "      <th></th>\n",
       "      <th></th>\n",
       "      <th></th>\n",
       "      <th></th>\n",
       "      <th></th>\n",
       "      <th></th>\n",
       "    </tr>\n",
       "  </thead>\n",
       "  <tbody>\n",
       "    <tr>\n",
       "      <th>2018-01-26 09:56:05</th>\n",
       "      <td>1</td>\n",
       "      <td>8</td>\n",
       "      <td>97.105.19.61</td>\n",
       "      <td>Hampton</td>\n",
       "      <td>2015-09-22</td>\n",
       "      <td>2016-02-06</td>\n",
       "      <td>2016-06-14 19:52:26</td>\n",
       "      <td>2016-06-14 19:52:26</td>\n",
       "      <td>1</td>\n",
       "      <td>php</td>\n",
       "      <td>object-oriented-programming</td>\n",
       "    </tr>\n",
       "    <tr>\n",
       "      <th>2018-01-26 09:56:06</th>\n",
       "      <td>1</td>\n",
       "      <td>8</td>\n",
       "      <td>97.105.19.61</td>\n",
       "      <td>Hampton</td>\n",
       "      <td>2015-09-22</td>\n",
       "      <td>2016-02-06</td>\n",
       "      <td>2016-06-14 19:52:26</td>\n",
       "      <td>2016-06-14 19:52:26</td>\n",
       "      <td>1</td>\n",
       "      <td>php</td>\n",
       "      <td>object_oriented_programming</td>\n",
       "    </tr>\n",
       "    <tr>\n",
       "      <th>2018-01-26 09:56:24</th>\n",
       "      <td>2</td>\n",
       "      <td>22</td>\n",
       "      <td>97.105.19.61</td>\n",
       "      <td>Teddy</td>\n",
       "      <td>2018-01-08</td>\n",
       "      <td>2018-05-17</td>\n",
       "      <td>2018-01-08 13:59:10</td>\n",
       "      <td>2018-01-08 13:59:10</td>\n",
       "      <td>2</td>\n",
       "      <td>java</td>\n",
       "      <td>conditionals</td>\n",
       "    </tr>\n",
       "    <tr>\n",
       "      <th>2018-01-26 09:56:41</th>\n",
       "      <td>2</td>\n",
       "      <td>22</td>\n",
       "      <td>97.105.19.61</td>\n",
       "      <td>Teddy</td>\n",
       "      <td>2018-01-08</td>\n",
       "      <td>2018-05-17</td>\n",
       "      <td>2018-01-08 13:59:10</td>\n",
       "      <td>2018-01-08 13:59:10</td>\n",
       "      <td>2</td>\n",
       "      <td>java</td>\n",
       "      <td>loops</td>\n",
       "    </tr>\n",
       "    <tr>\n",
       "      <th>2018-01-26 09:56:46</th>\n",
       "      <td>3</td>\n",
       "      <td>22</td>\n",
       "      <td>97.105.19.61</td>\n",
       "      <td>Teddy</td>\n",
       "      <td>2018-01-08</td>\n",
       "      <td>2018-05-17</td>\n",
       "      <td>2018-01-08 13:59:10</td>\n",
       "      <td>2018-01-08 13:59:10</td>\n",
       "      <td>2</td>\n",
       "      <td>java</td>\n",
       "      <td>conditionals</td>\n",
       "    </tr>\n",
       "  </tbody>\n",
       "</table>\n",
       "</div>"
      ],
      "text/plain": [
       "                     user_id  cohort_id            ip   cohort  \\\n",
       "date                                                             \n",
       "2018-01-26 09:56:05        1          8  97.105.19.61  Hampton   \n",
       "2018-01-26 09:56:06        1          8  97.105.19.61  Hampton   \n",
       "2018-01-26 09:56:24        2         22  97.105.19.61    Teddy   \n",
       "2018-01-26 09:56:41        2         22  97.105.19.61    Teddy   \n",
       "2018-01-26 09:56:46        3         22  97.105.19.61    Teddy   \n",
       "\n",
       "                    class_start_date class_end_date          created_at  \\\n",
       "date                                                                      \n",
       "2018-01-26 09:56:05       2015-09-22     2016-02-06 2016-06-14 19:52:26   \n",
       "2018-01-26 09:56:06       2015-09-22     2016-02-06 2016-06-14 19:52:26   \n",
       "2018-01-26 09:56:24       2018-01-08     2018-05-17 2018-01-08 13:59:10   \n",
       "2018-01-26 09:56:41       2018-01-08     2018-05-17 2018-01-08 13:59:10   \n",
       "2018-01-26 09:56:46       2018-01-08     2018-05-17 2018-01-08 13:59:10   \n",
       "\n",
       "                             updated_at  program_id subdomain  \\\n",
       "date                                                            \n",
       "2018-01-26 09:56:05 2016-06-14 19:52:26           1       php   \n",
       "2018-01-26 09:56:06 2016-06-14 19:52:26           1       php   \n",
       "2018-01-26 09:56:24 2018-01-08 13:59:10           2      java   \n",
       "2018-01-26 09:56:41 2018-01-08 13:59:10           2      java   \n",
       "2018-01-26 09:56:46 2018-01-08 13:59:10           2      java   \n",
       "\n",
       "                                          path_2  \n",
       "date                                              \n",
       "2018-01-26 09:56:05  object-oriented-programming  \n",
       "2018-01-26 09:56:06  object_oriented_programming  \n",
       "2018-01-26 09:56:24                 conditionals  \n",
       "2018-01-26 09:56:41                        loops  \n",
       "2018-01-26 09:56:46                 conditionals  "
      ]
     },
     "execution_count": 7,
     "metadata": {},
     "output_type": "execute_result"
    }
   ],
   "source": [
    "df = prepd_data(df)\n",
    "df.head()"
   ]
  },
  {
   "cell_type": "code",
   "execution_count": 9,
   "id": "16821465-ac1d-4317-ab46-09434dd1696c",
   "metadata": {},
   "outputs": [
    {
     "name": "stdout",
     "output_type": "stream",
     "text": [
      "(638186, 11)\n",
      "___________________________\n",
      "<class 'pandas.core.frame.DataFrame'>\n",
      "DatetimeIndex: 638186 entries, 2018-01-26 09:56:05 to 2021-04-21 16:44:39\n",
      "Data columns (total 11 columns):\n",
      " #   Column            Non-Null Count   Dtype         \n",
      "---  ------            --------------   -----         \n",
      " 0   user_id           638186 non-null  int64         \n",
      " 1   cohort_id         638186 non-null  int64         \n",
      " 2   ip                638186 non-null  object        \n",
      " 3   cohort            638186 non-null  object        \n",
      " 4   class_start_date  638186 non-null  datetime64[ns]\n",
      " 5   class_end_date    638186 non-null  datetime64[ns]\n",
      " 6   created_at        638186 non-null  datetime64[ns]\n",
      " 7   updated_at        638186 non-null  datetime64[ns]\n",
      " 8   program_id        638186 non-null  int64         \n",
      " 9   subdomain         638186 non-null  object        \n",
      " 10  path_2            638186 non-null  object        \n",
      "dtypes: datetime64[ns](4), int64(3), object(4)\n",
      "memory usage: 58.4+ MB\n",
      "None\n",
      "___________________________\n",
      "user_id             0\n",
      "cohort_id           0\n",
      "ip                  0\n",
      "cohort              0\n",
      "class_start_date    0\n",
      "class_end_date      0\n",
      "created_at          0\n",
      "updated_at          0\n",
      "program_id          0\n",
      "subdomain           0\n",
      "path_2              0\n",
      "dtype: int64\n"
     ]
    }
   ],
   "source": [
    "summarize(df)"
   ]
  },
  {
   "cell_type": "code",
   "execution_count": 8,
   "id": "171852d7-e711-42a3-ab81-59ea2b20a6ed",
   "metadata": {
    "tags": []
   },
   "outputs": [],
   "source": [
    "#cached for accessibility\n",
    "df.to_csv('/Users/hector/codeup-data-science/anomaly-detection-project/log_clean.csv')"
   ]
  },
  {
   "cell_type": "markdown",
   "id": "9a5c2918-7929-4121-8c89-5d36fdefdd61",
   "metadata": {},
   "source": [
    "##### Key Takeaways"
   ]
  },
  {
   "cell_type": "markdown",
   "id": "8bc22513-8d46-4a70-b9b0-4de9ec7a4a01",
   "metadata": {},
   "source": [
    "### Exploration on prepared dataset"
   ]
  },
  {
   "cell_type": "code",
   "execution_count": 44,
   "id": "31365cb6-5fcf-4d7e-aa8b-7d664394692c",
   "metadata": {},
   "outputs": [
    {
     "data": {
      "text/plain": [
       "<AxesSubplot:>"
      ]
     },
     "execution_count": 44,
     "metadata": {},
     "output_type": "execute_result"
    },
    {
     "data": {
      "image/png": "[encoded data removed]",
      "text/plain": [
       "<Figure size 360x648 with 1 Axes>"
      ]
     },
     "metadata": {
      "needs_background": "light"
     },
     "output_type": "display_data"
    }
   ],
   "source": [
    "#Counts by ip activity\n",
    "ip_df = value_counts_and_frequencies(df.ip)\n",
    "ip_df['count'].sort_values().tail().plot.barh( figsize=(5, 9))"
   ]
  },
  {
   "cell_type": "code",
   "execution_count": 12,
   "id": "66b9026f-93f9-4579-8d9a-df52c927894d",
   "metadata": {},
   "outputs": [
    {
     "data": {
      "text/plain": [
       "<AxesSubplot:>"
      ]
     },
     "execution_count": 12,
     "metadata": {},
     "output_type": "execute_result"
    },
    {
     "data": {
      "image/png": "[encoded data removed]",
      "text/plain": [
       "<Figure size 360x648 with 1 Axes>"
      ]
     },
     "metadata": {
      "needs_background": "light"
     },
     "output_type": "display_data"
    }
   ],
   "source": [
    "#Counts by lesson\n",
    "lesson_df = value_counts_and_frequencies(df.path_2)\n",
    "lesson_df['count'].sort_values().tail().plot.barh(figsize=(5, 9))"
   ]
  },
  {
   "cell_type": "code",
   "execution_count": 49,
   "id": "8d831b23-e75c-482d-9f34-672f8056cc2b",
   "metadata": {},
   "outputs": [
    {
     "data": {
      "text/plain": [
       "<AxesSubplot:>"
      ]
     },
     "execution_count": 49,
     "metadata": {},
     "output_type": "execute_result"
    },
    {
     "data": {
      "image/png": "[encoded data removed]",
      "text/plain": [
       "<Figure size 360x648 with 1 Axes>"
      ]
     },
     "metadata": {
      "needs_background": "light"
     },
     "output_type": "display_data"
    }
   ],
   "source": [
    "#Counts by Cohort. Staff was mainly ignored.\n",
    "cohort_df = value_counts_and_frequencies(df.cohort)\n",
    "cohort_df['count'].sort_values().tail().plot.barh(figsize=(5, 9))"
   ]
  },
  {
   "cell_type": "code",
   "execution_count": 14,
   "id": "9a2110eb-dc48-4105-b485-0826006b7d51",
   "metadata": {},
   "outputs": [
    {
     "data": {
      "text/plain": [
       "<AxesSubplot:>"
      ]
     },
     "execution_count": 14,
     "metadata": {},
     "output_type": "execute_result"
    },
    {
     "data": {
      "image/png": "[encoded data removed]",
      "text/plain": [
       "<Figure size 360x648 with 1 Axes>"
      ]
     },
     "metadata": {
      "needs_background": "light"
     },
     "output_type": "display_data"
    }
   ],
   "source": [
    "#Most active users\n",
    "user_df = value_counts_and_frequencies(df.user_id)\n",
    "user_df['count'].sort_values().tail().plot.barh(figsize=(5, 9))"
   ]
  },
  {
   "cell_type": "code",
   "execution_count": 56,
   "id": "ab7f5423-d69e-41ff-ba8e-06d59f38ae70",
   "metadata": {},
   "outputs": [
    {
     "data": {
      "text/plain": [
       "<AxesSubplot:>"
      ]
     },
     "execution_count": 56,
     "metadata": {},
     "output_type": "execute_result"
    },
    {
     "data": {
      "image/png": "[encoded data removed]",
      "text/plain": [
       "<Figure size 360x648 with 1 Axes>"
      ]
     },
     "metadata": {
      "needs_background": "light"
     },
     "output_type": "display_data"
    }
   ],
   "source": [
    "#Most active programs\n",
    "program_df = value_counts_and_frequencies(df.subdomain)\n",
    "program_df['count'].sort_values().tail().plot.barh(figsize=(5, 9))"
   ]
  },
  {
   "cell_type": "markdown",
   "id": "e973dd23-d3db-4c1f-84a6-572724a33bc8",
   "metadata": {},
   "source": [
    "# Explore"
   ]
  },
  {
   "cell_type": "markdown",
   "id": "4d137866-41e7-49f8-8a14-b78bc658e118",
   "metadata": {},
   "source": [
    "1. Which lesson appears to attract the most traffic consistently across cohorts (per program)?"
   ]
  },
  {
   "cell_type": "code",
   "execution_count": 16,
   "id": "dc8affa7-ee9e-44a4-b733-fc417b5b10c8",
   "metadata": {},
   "outputs": [
    {
     "data": {
      "text/html": [
       "<div>\n",
       "<style scoped>\n",
       "    .dataframe tbody tr th:only-of-type {\n",
       "        vertical-align: middle;\n",
       "    }\n",
       "\n",
       "    .dataframe tbody tr th {\n",
       "        vertical-align: top;\n",
       "    }\n",
       "\n",
       "    .dataframe thead th {\n",
       "        text-align: right;\n",
       "    }\n",
       "</style>\n",
       "<table border=\"1\" class=\"dataframe\">\n",
       "  <thead>\n",
       "    <tr style=\"text-align: right;\">\n",
       "      <th></th>\n",
       "      <th>index</th>\n",
       "      <th>cohort_count</th>\n",
       "    </tr>\n",
       "  </thead>\n",
       "  <tbody>\n",
       "    <tr>\n",
       "      <th>0</th>\n",
       "      <td>introduction</td>\n",
       "      <td>0.058626</td>\n",
       "    </tr>\n",
       "    <tr>\n",
       "      <th>1</th>\n",
       "      <td>fundamentals</td>\n",
       "      <td>0.053920</td>\n",
       "    </tr>\n",
       "    <tr>\n",
       "      <th>2</th>\n",
       "      <td>css-i</td>\n",
       "      <td>0.049500</td>\n",
       "    </tr>\n",
       "    <tr>\n",
       "      <th>3</th>\n",
       "      <td>css-ii</td>\n",
       "      <td>0.031746</td>\n",
       "    </tr>\n",
       "    <tr>\n",
       "      <th>4</th>\n",
       "      <td>search_index.json</td>\n",
       "      <td>0.030399</td>\n",
       "    </tr>\n",
       "  </tbody>\n",
       "</table>\n",
       "</div>"
      ],
      "text/plain": [
       "               index  cohort_count\n",
       "0       introduction      0.058626\n",
       "1       fundamentals      0.053920\n",
       "2              css-i      0.049500\n",
       "3             css-ii      0.031746\n",
       "4  search_index.json      0.030399"
      ]
     },
     "execution_count": 16,
     "metadata": {},
     "output_type": "execute_result"
    }
   ],
   "source": [
    "lesson_across_cohorts = (df.sort_values('cohort').path_2.value_counts(normalize=True).rename('cohort_count').reset_index())\n",
    "lesson_across_cohorts.head()"
   ]
  },
  {
   "cell_type": "code",
   "execution_count": 17,
   "id": "e63646b3-32c0-40ed-b6b9-ff4acb8873d2",
   "metadata": {},
   "outputs": [],
   "source": [
    "lesson_across_cohorts.to_csv('/Users/hector/codeup-data-science/anomaly-detection-project/lesson_across_cohorts.csv')"
   ]
  },
  {
   "cell_type": "code",
   "execution_count": 58,
   "id": "ffbfdf50-c82f-445d-bc8e-a0140f3de862",
   "metadata": {
    "jupyter": {
     "source_hidden": true
    },
    "tags": []
   },
   "outputs": [
    {
     "data": {
      "text/html": [
       "<div class='tableauPlaceholder' id='viz1634921936585' style='position: relative'><noscript><a href='#'><img alt='Lessons Across Cohort per Program ' src='https:&#47;&#47;public.tableau.com&#47;static&#47;images&#47;An&#47;AnomalyDetectionProject_16348759484050&#47;LessonAcrossCohort&#47;1_rss.png' style='border: none' /></a></noscript><object class='tableauViz'  style='display:none;'><param name='host_url' value='https%3A%2F%2Fpublic.tableau.com%2F' /> <param name='embed_code_version' value='3' /> <param name='site_root' value='' /><param name='name' value='AnomalyDetectionProject_16348759484050&#47;LessonAcrossCohort' /><param name='tabs' value='no' /><param name='toolbar' value='yes' /><param name='static_image' value='https:&#47;&#47;public.tableau.com&#47;static&#47;images&#47;An&#47;AnomalyDetectionProject_16348759484050&#47;LessonAcrossCohort&#47;1.png' /> <param name='animate_transition' value='yes' /><param name='display_static_image' value='yes' /><param name='display_spinner' value='yes' /><param name='display_overlay' value='yes' /><param name='display_count' value='yes' /><param name='language' value='en-US' /></object></div>                <script type='text/javascript'>                    var divElement = document.getElementById('viz1634921936585');                    var vizElement = divElement.getElementsByTagName('object')[0];                    vizElement.style.width='100%';vizElement.style.height=(divElement.offsetWidth*0.75)+'px';                    var scriptElement = document.createElement('script');                    scriptElement.src = 'https://public.tableau.com/javascripts/api/viz_v1.js';                    vizElement.parentNode.insertBefore(scriptElement, vizElement);                </script>\n"
      ],
      "text/plain": [
       "<IPython.core.display.HTML object>"
      ]
     },
     "metadata": {},
     "output_type": "display_data"
    }
   ],
   "source": [
    "%%HTML\n",
    "<div class='tableauPlaceholder' id='viz1634921936585' style='position: relative'><noscript><a href='#'><img alt='Lessons Across Cohort per Program ' src='https:&#47;&#47;public.tableau.com&#47;static&#47;images&#47;An&#47;AnomalyDetectionProject_16348759484050&#47;LessonAcrossCohort&#47;1_rss.png' style='border: none' /></a></noscript><object class='tableauViz'  style='display:none;'><param name='host_url' value='https%3A%2F%2Fpublic.tableau.com%2F' /> <param name='embed_code_version' value='3' /> <param name='site_root' value='' /><param name='name' value='AnomalyDetectionProject_16348759484050&#47;LessonAcrossCohort' /><param name='tabs' value='no' /><param name='toolbar' value='yes' /><param name='static_image' value='https:&#47;&#47;public.tableau.com&#47;static&#47;images&#47;An&#47;AnomalyDetectionProject_16348759484050&#47;LessonAcrossCohort&#47;1.png' /> <param name='animate_transition' value='yes' /><param name='display_static_image' value='yes' /><param name='display_spinner' value='yes' /><param name='display_overlay' value='yes' /><param name='display_count' value='yes' /><param name='language' value='en-US' /></object></div>                <script type='text/javascript'>                    var divElement = document.getElementById('viz1634921936585');                    var vizElement = divElement.getElementsByTagName('object')[0];                    vizElement.style.width='100%';vizElement.style.height=(divElement.offsetWidth*0.75)+'px';                    var scriptElement = document.createElement('script');                    scriptElement.src = 'https://public.tableau.com/javascripts/api/viz_v1.js';                    vizElement.parentNode.insertBefore(scriptElement, vizElement);                </script>"
   ]
  },
  {
   "cell_type": "markdown",
   "id": "9d14f189-803e-4eb6-94df-1dcf95bca970",
   "metadata": {},
   "source": [
    "##### Key Takeaways\n",
    "1. No real significance.\n",
    "2. Understandably introduction and fuindamentals were the top two lessons that drove activity."
   ]
  },
  {
   "cell_type": "markdown",
   "id": "3b613de5-b47b-4c0f-870f-2d0f338d1a92",
   "metadata": {},
   "source": [
    "2. Is there a cohort that referred to a lesson significantly more than other cohorts seemed to gloss over?"
   ]
  },
  {
   "cell_type": "code",
   "execution_count": 18,
   "id": "0b13adce-c906-4796-97fd-49e55a3e5883",
   "metadata": {},
   "outputs": [
    {
     "data": {
      "text/html": [
       "<div>\n",
       "<style scoped>\n",
       "    .dataframe tbody tr th:only-of-type {\n",
       "        vertical-align: middle;\n",
       "    }\n",
       "\n",
       "    .dataframe tbody tr th {\n",
       "        vertical-align: top;\n",
       "    }\n",
       "\n",
       "    .dataframe thead th {\n",
       "        text-align: right;\n",
       "    }\n",
       "</style>\n",
       "<table border=\"1\" class=\"dataframe\">\n",
       "  <thead>\n",
       "    <tr style=\"text-align: right;\">\n",
       "      <th></th>\n",
       "      <th>index</th>\n",
       "      <th>path_count</th>\n",
       "    </tr>\n",
       "  </thead>\n",
       "  <tbody>\n",
       "    <tr>\n",
       "      <th>0</th>\n",
       "      <td>Staff</td>\n",
       "      <td>55287</td>\n",
       "    </tr>\n",
       "    <tr>\n",
       "      <th>1</th>\n",
       "      <td>Ceres</td>\n",
       "      <td>31656</td>\n",
       "    </tr>\n",
       "    <tr>\n",
       "      <th>2</th>\n",
       "      <td>Zion</td>\n",
       "      <td>28380</td>\n",
       "    </tr>\n",
       "    <tr>\n",
       "      <th>3</th>\n",
       "      <td>Fortuna</td>\n",
       "      <td>27505</td>\n",
       "    </tr>\n",
       "    <tr>\n",
       "      <th>4</th>\n",
       "      <td>Jupiter</td>\n",
       "      <td>27083</td>\n",
       "    </tr>\n",
       "  </tbody>\n",
       "</table>\n",
       "</div>"
      ],
      "text/plain": [
       "     index  path_count\n",
       "0    Staff       55287\n",
       "1    Ceres       31656\n",
       "2     Zion       28380\n",
       "3  Fortuna       27505\n",
       "4  Jupiter       27083"
      ]
     },
     "execution_count": 18,
     "metadata": {},
     "output_type": "execute_result"
    }
   ],
   "source": [
    "cohorts_to_lesson = (df.sort_values('path_2').cohort.value_counts().rename('path_count').reset_index())\n",
    "cohorts_to_lesson.head()"
   ]
  },
  {
   "cell_type": "code",
   "execution_count": 19,
   "id": "e8e11931-a76d-434f-a9f2-f4743ef05063",
   "metadata": {},
   "outputs": [],
   "source": [
    "cohorts_to_lesson.to_csv('/Users/hector/codeup-data-science/anomaly-detection-project/cohorts_to_lesson.csv')"
   ]
  },
  {
   "cell_type": "code",
   "execution_count": 59,
   "id": "f8d9678f-72b3-488e-8941-f49c8f05874b",
   "metadata": {
    "jupyter": {
     "source_hidden": true
    },
    "tags": []
   },
   "outputs": [
    {
     "data": {
      "text/html": [
       "<div class='tableauPlaceholder' id='viz1634922037420' style='position: relative'><noscript><a href='#'><img alt='Lesson Significant Amongst Cohorts ' src='https:&#47;&#47;public.tableau.com&#47;static&#47;images&#47;An&#47;AnomalyDetectionProject_16348759484050&#47;LessonSignificance&#47;1_rss.png' style='border: none' /></a></noscript><object class='tableauViz'  style='display:none;'><param name='host_url' value='https%3A%2F%2Fpublic.tableau.com%2F' /> <param name='embed_code_version' value='3' /> <param name='site_root' value='' /><param name='name' value='AnomalyDetectionProject_16348759484050&#47;LessonSignificance' /><param name='tabs' value='no' /><param name='toolbar' value='yes' /><param name='static_image' value='https:&#47;&#47;public.tableau.com&#47;static&#47;images&#47;An&#47;AnomalyDetectionProject_16348759484050&#47;LessonSignificance&#47;1.png' /> <param name='animate_transition' value='yes' /><param name='display_static_image' value='yes' /><param name='display_spinner' value='yes' /><param name='display_overlay' value='yes' /><param name='display_count' value='yes' /><param name='language' value='en-US' /></object></div>                <script type='text/javascript'>                    var divElement = document.getElementById('viz1634922037420');                    var vizElement = divElement.getElementsByTagName('object')[0];                    vizElement.style.width='100%';vizElement.style.height=(divElement.offsetWidth*0.75)+'px';                    var scriptElement = document.createElement('script');                    scriptElement.src = 'https://public.tableau.com/javascripts/api/viz_v1.js';                    vizElement.parentNode.insertBefore(scriptElement, vizElement);                </script>\n"
      ],
      "text/plain": [
       "<IPython.core.display.HTML object>"
      ]
     },
     "metadata": {},
     "output_type": "display_data"
    }
   ],
   "source": [
    "%%HTML\n",
    "<div class='tableauPlaceholder' id='viz1634922037420' style='position: relative'><noscript><a href='#'><img alt='Lesson Significant Amongst Cohorts ' src='https:&#47;&#47;public.tableau.com&#47;static&#47;images&#47;An&#47;AnomalyDetectionProject_16348759484050&#47;LessonSignificance&#47;1_rss.png' style='border: none' /></a></noscript><object class='tableauViz'  style='display:none;'><param name='host_url' value='https%3A%2F%2Fpublic.tableau.com%2F' /> <param name='embed_code_version' value='3' /> <param name='site_root' value='' /><param name='name' value='AnomalyDetectionProject_16348759484050&#47;LessonSignificance' /><param name='tabs' value='no' /><param name='toolbar' value='yes' /><param name='static_image' value='https:&#47;&#47;public.tableau.com&#47;static&#47;images&#47;An&#47;AnomalyDetectionProject_16348759484050&#47;LessonSignificance&#47;1.png' /> <param name='animate_transition' value='yes' /><param name='display_static_image' value='yes' /><param name='display_spinner' value='yes' /><param name='display_overlay' value='yes' /><param name='display_count' value='yes' /><param name='language' value='en-US' /></object></div>                <script type='text/javascript'>                    var divElement = document.getElementById('viz1634922037420');                    var vizElement = divElement.getElementsByTagName('object')[0];                    vizElement.style.width='100%';vizElement.style.height=(divElement.offsetWidth*0.75)+'px';                    var scriptElement = document.createElement('script');                    scriptElement.src = 'https://public.tableau.com/javascripts/api/viz_v1.js';                    vizElement.parentNode.insertBefore(scriptElement, vizElement);                </script>"
   ]
  },
  {
   "cell_type": "markdown",
   "id": "80a65a1e-abb9-407f-a10b-0595efa4bb85",
   "metadata": {},
   "source": [
    "##### Key Takeaways\n",
    "1. Lesson significance grouped by chort.\n",
    "2. No real telling story other then activity.\n",
    "3. Timeframe has some affect on significance. \n",
    "4. Earlier years are less active."
   ]
  },
  {
   "cell_type": "markdown",
   "id": "1f74e022-27e6-419a-9ed9-896328d97cb2",
   "metadata": {},
   "source": [
    "3. Are there students who, when active, hardly access the curriculum? If so, what information do you have about these students?"
   ]
  },
  {
   "cell_type": "code",
   "execution_count": 20,
   "id": "fc8e0daa-f611-4512-9001-fa32cc21af12",
   "metadata": {},
   "outputs": [
    {
     "data": {
      "text/html": [
       "<div>\n",
       "<style scoped>\n",
       "    .dataframe tbody tr th:only-of-type {\n",
       "        vertical-align: middle;\n",
       "    }\n",
       "\n",
       "    .dataframe tbody tr th {\n",
       "        vertical-align: top;\n",
       "    }\n",
       "\n",
       "    .dataframe thead th {\n",
       "        text-align: right;\n",
       "    }\n",
       "</style>\n",
       "<table border=\"1\" class=\"dataframe\">\n",
       "  <thead>\n",
       "    <tr style=\"text-align: right;\">\n",
       "      <th></th>\n",
       "      <th>index</th>\n",
       "      <th>ip_count</th>\n",
       "    </tr>\n",
       "  </thead>\n",
       "  <tbody>\n",
       "    <tr>\n",
       "      <th>883</th>\n",
       "      <td>401</td>\n",
       "      <td>3</td>\n",
       "    </tr>\n",
       "    <tr>\n",
       "      <th>884</th>\n",
       "      <td>169</td>\n",
       "      <td>2</td>\n",
       "    </tr>\n",
       "    <tr>\n",
       "      <th>885</th>\n",
       "      <td>177</td>\n",
       "      <td>2</td>\n",
       "    </tr>\n",
       "    <tr>\n",
       "      <th>886</th>\n",
       "      <td>212</td>\n",
       "      <td>1</td>\n",
       "    </tr>\n",
       "    <tr>\n",
       "      <th>887</th>\n",
       "      <td>348</td>\n",
       "      <td>1</td>\n",
       "    </tr>\n",
       "  </tbody>\n",
       "</table>\n",
       "</div>"
      ],
      "text/plain": [
       "     index  ip_count\n",
       "883    401         3\n",
       "884    169         2\n",
       "885    177         2\n",
       "886    212         1\n",
       "887    348         1"
      ]
     },
     "execution_count": 20,
     "metadata": {},
     "output_type": "execute_result"
    }
   ],
   "source": [
    "student_activity = (df.sort_values('ip').user_id.value_counts().rename('ip_count').reset_index())\n",
    "student_activity.tail()"
   ]
  },
  {
   "cell_type": "code",
   "execution_count": 21,
   "id": "a3ff258e-b0b4-4447-937e-5f8d7a34598f",
   "metadata": {},
   "outputs": [],
   "source": [
    "student_activity.to_csv('/Users/hector/codeup-data-science/anomaly-detection-project/student_activity.csv')"
   ]
  },
  {
   "cell_type": "code",
   "execution_count": 60,
   "id": "af5e7621-4288-4581-b089-f1682d083871",
   "metadata": {
    "jupyter": {
     "source_hidden": true
    },
    "tags": []
   },
   "outputs": [
    {
     "data": {
      "text/html": [
       "<div class='tableauPlaceholder' id='viz1634922126564' style='position: relative'><noscript><a href='#'><img alt='Usage by User ' src='https:&#47;&#47;public.tableau.com&#47;static&#47;images&#47;An&#47;AnomalyDetectionProject_16348759484050&#47;UsagebyUser&#47;1_rss.png' style='border: none' /></a></noscript><object class='tableauViz'  style='display:none;'><param name='host_url' value='https%3A%2F%2Fpublic.tableau.com%2F' /> <param name='embed_code_version' value='3' /> <param name='site_root' value='' /><param name='name' value='AnomalyDetectionProject_16348759484050&#47;UsagebyUser' /><param name='tabs' value='no' /><param name='toolbar' value='yes' /><param name='static_image' value='https:&#47;&#47;public.tableau.com&#47;static&#47;images&#47;An&#47;AnomalyDetectionProject_16348759484050&#47;UsagebyUser&#47;1.png' /> <param name='animate_transition' value='yes' /><param name='display_static_image' value='yes' /><param name='display_spinner' value='yes' /><param name='display_overlay' value='yes' /><param name='display_count' value='yes' /><param name='language' value='en-US' /></object></div>                <script type='text/javascript'>                    var divElement = document.getElementById('viz1634922126564');                    var vizElement = divElement.getElementsByTagName('object')[0];                    vizElement.style.width='100%';vizElement.style.height=(divElement.offsetWidth*0.75)+'px';                    var scriptElement = document.createElement('script');                    scriptElement.src = 'https://public.tableau.com/javascripts/api/viz_v1.js';                    vizElement.parentNode.insertBefore(scriptElement, vizElement);                </script>\n"
      ],
      "text/plain": [
       "<IPython.core.display.HTML object>"
      ]
     },
     "metadata": {},
     "output_type": "display_data"
    }
   ],
   "source": [
    "%%HTML\n",
    "<div class='tableauPlaceholder' id='viz1634922126564' style='position: relative'><noscript><a href='#'><img alt='Usage by User ' src='https:&#47;&#47;public.tableau.com&#47;static&#47;images&#47;An&#47;AnomalyDetectionProject_16348759484050&#47;UsagebyUser&#47;1_rss.png' style='border: none' /></a></noscript><object class='tableauViz'  style='display:none;'><param name='host_url' value='https%3A%2F%2Fpublic.tableau.com%2F' /> <param name='embed_code_version' value='3' /> <param name='site_root' value='' /><param name='name' value='AnomalyDetectionProject_16348759484050&#47;UsagebyUser' /><param name='tabs' value='no' /><param name='toolbar' value='yes' /><param name='static_image' value='https:&#47;&#47;public.tableau.com&#47;static&#47;images&#47;An&#47;AnomalyDetectionProject_16348759484050&#47;UsagebyUser&#47;1.png' /> <param name='animate_transition' value='yes' /><param name='display_static_image' value='yes' /><param name='display_spinner' value='yes' /><param name='display_overlay' value='yes' /><param name='display_count' value='yes' /><param name='language' value='en-US' /></object></div>                <script type='text/javascript'>                    var divElement = document.getElementById('viz1634922126564');                    var vizElement = divElement.getElementsByTagName('object')[0];                    vizElement.style.width='100%';vizElement.style.height=(divElement.offsetWidth*0.75)+'px';                    var scriptElement = document.createElement('script');                    scriptElement.src = 'https://public.tableau.com/javascripts/api/viz_v1.js';                    vizElement.parentNode.insertBefore(scriptElement, vizElement);                </script>"
   ]
  },
  {
   "cell_type": "markdown",
   "id": "3d4e558b-22b0-4798-9652-fa3e8494403b",
   "metadata": {},
   "source": [
    "##### Key Takeaways\n",
    "1. Nothing significant other than one user with very little activity.\n",
    "2. Possibilities could include:\n",
    "    - bad data, leading to filtering during the prep phase\n",
    "    - Time of year may have something to do with i.e. holidays"
   ]
  },
  {
   "cell_type": "markdown",
   "id": "3b3dcbfa-2e2f-48ea-9cd2-4cb494ec4a06",
   "metadata": {},
   "source": [
    "4. What topics are grads continuing to reference after graduation and into their jobs (for each program)?"
   ]
  },
  {
   "cell_type": "code",
   "execution_count": 22,
   "id": "dd4200b5-adea-434d-84e5-0863249ef5fe",
   "metadata": {},
   "outputs": [
    {
     "data": {
      "text/html": [
       "<div>\n",
       "<style scoped>\n",
       "    .dataframe tbody tr th:only-of-type {\n",
       "        vertical-align: middle;\n",
       "    }\n",
       "\n",
       "    .dataframe tbody tr th {\n",
       "        vertical-align: top;\n",
       "    }\n",
       "\n",
       "    .dataframe thead th {\n",
       "        text-align: right;\n",
       "    }\n",
       "</style>\n",
       "<table border=\"1\" class=\"dataframe\">\n",
       "  <thead>\n",
       "    <tr style=\"text-align: right;\">\n",
       "      <th></th>\n",
       "      <th>index</th>\n",
       "      <th>p2_count</th>\n",
       "    </tr>\n",
       "  </thead>\n",
       "  <tbody>\n",
       "    <tr>\n",
       "      <th>0</th>\n",
       "      <td>11</td>\n",
       "      <td>11703</td>\n",
       "    </tr>\n",
       "    <tr>\n",
       "      <th>1</th>\n",
       "      <td>64</td>\n",
       "      <td>11297</td>\n",
       "    </tr>\n",
       "    <tr>\n",
       "      <th>2</th>\n",
       "      <td>53</td>\n",
       "      <td>8107</td>\n",
       "    </tr>\n",
       "    <tr>\n",
       "      <th>3</th>\n",
       "      <td>314</td>\n",
       "      <td>5829</td>\n",
       "    </tr>\n",
       "    <tr>\n",
       "      <th>4</th>\n",
       "      <td>581</td>\n",
       "      <td>4881</td>\n",
       "    </tr>\n",
       "  </tbody>\n",
       "</table>\n",
       "</div>"
      ],
      "text/plain": [
       "   index  p2_count\n",
       "0     11     11703\n",
       "1     64     11297\n",
       "2     53      8107\n",
       "3    314      5829\n",
       "4    581      4881"
      ]
     },
     "execution_count": 22,
     "metadata": {},
     "output_type": "execute_result"
    }
   ],
   "source": [
    "accessed = (df.sort_values('path_2').user_id.value_counts().rename('p2_count').reset_index())\n",
    "accessed.head()"
   ]
  },
  {
   "cell_type": "code",
   "execution_count": 23,
   "id": "2fecbb67-2837-465f-b86f-71928f3573ec",
   "metadata": {
    "tags": []
   },
   "outputs": [],
   "source": [
    "accessed.to_csv('/Users/hector/codeup-data-science/anomaly-detection-project/accessed.csv')"
   ]
  },
  {
   "cell_type": "code",
   "execution_count": 61,
   "id": "6eb9d12d-56c2-43dd-b50d-fccf9181e585",
   "metadata": {},
   "outputs": [
    {
     "data": {
      "text/html": [
       "<div class='tableauPlaceholder' id='viz1634924104718' style='position: relative'><noscript><a href='#'><img alt='Top 10 User Accessed Topics by Program Passed Graduation Date (Ascending) ' src='https:&#47;&#47;public.tableau.com&#47;static&#47;images&#47;An&#47;AnomalyDetectionProject_16348759484050&#47;accessed&#47;1_rss.png' style='border: none' /></a></noscript><object class='tableauViz'  style='display:none;'><param name='host_url' value='https%3A%2F%2Fpublic.tableau.com%2F' /> <param name='embed_code_version' value='3' /> <param name='site_root' value='' /><param name='name' value='AnomalyDetectionProject_16348759484050&#47;accessed' /><param name='tabs' value='no' /><param name='toolbar' value='yes' /><param name='static_image' value='https:&#47;&#47;public.tableau.com&#47;static&#47;images&#47;An&#47;AnomalyDetectionProject_16348759484050&#47;accessed&#47;1.png' /> <param name='animate_transition' value='yes' /><param name='display_static_image' value='yes' /><param name='display_spinner' value='yes' /><param name='display_overlay' value='yes' /><param name='display_count' value='yes' /><param name='language' value='en-US' /></object></div>                <script type='text/javascript'>                    var divElement = document.getElementById('viz1634924104718');                    var vizElement = divElement.getElementsByTagName('object')[0];                    vizElement.style.width='100%';vizElement.style.height=(divElement.offsetWidth*0.75)+'px';                    var scriptElement = document.createElement('script');                    scriptElement.src = 'https://public.tableau.com/javascripts/api/viz_v1.js';                    vizElement.parentNode.insertBefore(scriptElement, vizElement);                </script>\n"
      ],
      "text/plain": [
       "<IPython.core.display.HTML object>"
      ]
     },
     "metadata": {},
     "output_type": "display_data"
    }
   ],
   "source": [
    "%%HTML\n",
    "<div class='tableauPlaceholder' id='viz1634924104718' style='position: relative'><noscript><a href='#'><img alt='Top 10 User Accessed Topics by Program Passed Graduation Date (Ascending) ' src='https:&#47;&#47;public.tableau.com&#47;static&#47;images&#47;An&#47;AnomalyDetectionProject_16348759484050&#47;accessed&#47;1_rss.png' style='border: none' /></a></noscript><object class='tableauViz'  style='display:none;'><param name='host_url' value='https%3A%2F%2Fpublic.tableau.com%2F' /> <param name='embed_code_version' value='3' /> <param name='site_root' value='' /><param name='name' value='AnomalyDetectionProject_16348759484050&#47;accessed' /><param name='tabs' value='no' /><param name='toolbar' value='yes' /><param name='static_image' value='https:&#47;&#47;public.tableau.com&#47;static&#47;images&#47;An&#47;AnomalyDetectionProject_16348759484050&#47;accessed&#47;1.png' /> <param name='animate_transition' value='yes' /><param name='display_static_image' value='yes' /><param name='display_spinner' value='yes' /><param name='display_overlay' value='yes' /><param name='display_count' value='yes' /><param name='language' value='en-US' /></object></div>                <script type='text/javascript'>                    var divElement = document.getElementById('viz1634924104718');                    var vizElement = divElement.getElementsByTagName('object')[0];                    vizElement.style.width='100%';vizElement.style.height=(divElement.offsetWidth*0.75)+'px';                    var scriptElement = document.createElement('script');                    scriptElement.src = 'https://public.tableau.com/javascripts/api/viz_v1.js';                    vizElement.parentNode.insertBefore(scriptElement, vizElement);                </script>"
   ]
  },
  {
   "cell_type": "markdown",
   "id": "976788e3-b0bd-4f4c-9d36-337e9524bf51",
   "metadata": {},
   "source": [
    "5. Which lessons are least accessed?"
   ]
  },
  {
   "cell_type": "code",
   "execution_count": 24,
   "id": "b366c08d-db0e-46aa-9546-1c531340175d",
   "metadata": {},
   "outputs": [
    {
     "data": {
      "text/html": [
       "<div>\n",
       "<style scoped>\n",
       "    .dataframe tbody tr th:only-of-type {\n",
       "        vertical-align: middle;\n",
       "    }\n",
       "\n",
       "    .dataframe tbody tr th {\n",
       "        vertical-align: top;\n",
       "    }\n",
       "\n",
       "    .dataframe thead th {\n",
       "        text-align: right;\n",
       "    }\n",
       "</style>\n",
       "<table border=\"1\" class=\"dataframe\">\n",
       "  <thead>\n",
       "    <tr style=\"text-align: right;\">\n",
       "      <th></th>\n",
       "      <th>index</th>\n",
       "      <th>p2_count</th>\n",
       "    </tr>\n",
       "  </thead>\n",
       "  <tbody>\n",
       "    <tr>\n",
       "      <th>883</th>\n",
       "      <td>401</td>\n",
       "      <td>3</td>\n",
       "    </tr>\n",
       "    <tr>\n",
       "      <th>884</th>\n",
       "      <td>169</td>\n",
       "      <td>2</td>\n",
       "    </tr>\n",
       "    <tr>\n",
       "      <th>885</th>\n",
       "      <td>177</td>\n",
       "      <td>2</td>\n",
       "    </tr>\n",
       "    <tr>\n",
       "      <th>886</th>\n",
       "      <td>212</td>\n",
       "      <td>1</td>\n",
       "    </tr>\n",
       "    <tr>\n",
       "      <th>887</th>\n",
       "      <td>348</td>\n",
       "      <td>1</td>\n",
       "    </tr>\n",
       "  </tbody>\n",
       "</table>\n",
       "</div>"
      ],
      "text/plain": [
       "     index  p2_count\n",
       "883    401         3\n",
       "884    169         2\n",
       "885    177         2\n",
       "886    212         1\n",
       "887    348         1"
      ]
     },
     "execution_count": 24,
     "metadata": {},
     "output_type": "execute_result"
    }
   ],
   "source": [
    "least_accessed = (df.sort_values('path_2').user_id.value_counts().rename('p2_count').reset_index())\n",
    "least_accessed .tail()"
   ]
  },
  {
   "cell_type": "markdown",
   "id": "145fce69-a2c3-4cc7-b518-b2427e860b29",
   "metadata": {},
   "source": [
    "#### Selecting a user id bar will filter the Cohort to User Details showing the least accessed Path_2 against usage, subdomain, cohort, number of users."
   ]
  },
  {
   "cell_type": "code",
   "execution_count": 63,
   "id": "2ca5f3af-679a-4e4f-bee1-48c6e549dd5b",
   "metadata": {
    "jupyter": {
     "source_hidden": true
    },
    "tags": []
   },
   "outputs": [
    {
     "data": {
      "text/html": [
       "<div class='tableauPlaceholder' id='viz1634922175021' style='position: relative'><noscript><a href='#'><img alt='User ActivitySelect User Id in the bar grapgh to view corresponding Cohort to User Details ' src='https:&#47;&#47;public.tableau.com&#47;static&#47;images&#47;An&#47;AnomalyDetectionProject_16348759484050&#47;UserActivity&#47;1_rss.png' style='border: none' /></a></noscript><object class='tableauViz'  style='display:none;'><param name='host_url' value='https%3A%2F%2Fpublic.tableau.com%2F' /> <param name='embed_code_version' value='3' /> <param name='site_root' value='' /><param name='name' value='AnomalyDetectionProject_16348759484050&#47;UserActivity' /><param name='tabs' value='no' /><param name='toolbar' value='yes' /><param name='static_image' value='https:&#47;&#47;public.tableau.com&#47;static&#47;images&#47;An&#47;AnomalyDetectionProject_16348759484050&#47;UserActivity&#47;1.png' /> <param name='animate_transition' value='yes' /><param name='display_static_image' value='yes' /><param name='display_spinner' value='yes' /><param name='display_overlay' value='yes' /><param name='display_count' value='yes' /><param name='language' value='en-US' /></object></div>                <script type='text/javascript'>                    var divElement = document.getElementById('viz1634922175021');                    var vizElement = divElement.getElementsByTagName('object')[0];                    if ( divElement.offsetWidth > 800 ) { vizElement.style.minWidth='420px';vizElement.style.maxWidth='650px';vizElement.style.width='100%';vizElement.style.minHeight='587px';vizElement.style.maxHeight='887px';vizElement.style.height=(divElement.offsetWidth*0.75)+'px';} else if ( divElement.offsetWidth > 500 ) { vizElement.style.minWidth='420px';vizElement.style.maxWidth='650px';vizElement.style.width='100%';vizElement.style.minHeight='587px';vizElement.style.maxHeight='887px';vizElement.style.height=(divElement.offsetWidth*0.75)+'px';} else { vizElement.style.width='100%';vizElement.style.height='727px';}                     var scriptElement = document.createElement('script');                    scriptElement.src = 'https://public.tableau.com/javascripts/api/viz_v1.js';                    vizElement.parentNode.insertBefore(scriptElement, vizElement);                </script>\n"
      ],
      "text/plain": [
       "<IPython.core.display.HTML object>"
      ]
     },
     "metadata": {},
     "output_type": "display_data"
    }
   ],
   "source": [
    "%%HTML\n",
    "<div class='tableauPlaceholder' id='viz1634922175021' style='position: relative'><noscript><a href='#'><img alt='User ActivitySelect User Id in the bar grapgh to view corresponding Cohort to User Details ' src='https:&#47;&#47;public.tableau.com&#47;static&#47;images&#47;An&#47;AnomalyDetectionProject_16348759484050&#47;UserActivity&#47;1_rss.png' style='border: none' /></a></noscript><object class='tableauViz'  style='display:none;'><param name='host_url' value='https%3A%2F%2Fpublic.tableau.com%2F' /> <param name='embed_code_version' value='3' /> <param name='site_root' value='' /><param name='name' value='AnomalyDetectionProject_16348759484050&#47;UserActivity' /><param name='tabs' value='no' /><param name='toolbar' value='yes' /><param name='static_image' value='https:&#47;&#47;public.tableau.com&#47;static&#47;images&#47;An&#47;AnomalyDetectionProject_16348759484050&#47;UserActivity&#47;1.png' /> <param name='animate_transition' value='yes' /><param name='display_static_image' value='yes' /><param name='display_spinner' value='yes' /><param name='display_overlay' value='yes' /><param name='display_count' value='yes' /><param name='language' value='en-US' /></object></div>                <script type='text/javascript'>                    var divElement = document.getElementById('viz1634922175021');                    var vizElement = divElement.getElementsByTagName('object')[0];                    if ( divElement.offsetWidth > 800 ) { vizElement.style.minWidth='420px';vizElement.style.maxWidth='650px';vizElement.style.width='100%';vizElement.style.minHeight='587px';vizElement.style.maxHeight='887px';vizElement.style.height=(divElement.offsetWidth*0.75)+'px';} else if ( divElement.offsetWidth > 500 ) { vizElement.style.minWidth='420px';vizElement.style.maxWidth='650px';vizElement.style.width='100%';vizElement.style.minHeight='587px';vizElement.style.maxHeight='887px';vizElement.style.height=(divElement.offsetWidth*0.75)+'px';} else { vizElement.style.width='100%';vizElement.style.height='727px';}                     var scriptElement = document.createElement('script');                    scriptElement.src = 'https://public.tableau.com/javascripts/api/viz_v1.js';                    vizElement.parentNode.insertBefore(scriptElement, vizElement);                </script>"
   ]
  },
  {
   "cell_type": "code",
   "execution_count": null,
   "id": "f43224a9-e5b6-4466-bc76-dc0b6befc92b",
   "metadata": {},
   "outputs": [],
   "source": [
    "##### Key Takeaways\n",
    "1. Nothing significant that stands out. Limited user id attached to activity.\n",
    "2. Users could have been filtered out during prep.\n",
    "3. Bad data in - Bad data out."
   ]
  },
  {
   "cell_type": "markdown",
   "id": "71255fa2-9f64-4ff1-9dd2-6cef6f340088",
   "metadata": {},
   "source": [
    "6. Anything else I should be aware of?\n",
    "    - Rolling average on usage."
   ]
  },
  {
   "cell_type": "code",
   "execution_count": 25,
   "id": "579a52c2-8b4c-4601-84e9-eebd6e4ec825",
   "metadata": {},
   "outputs": [
    {
     "data": {
      "text/plain": [
       "date\n",
       "2018-01-28     709\n",
       "2018-02-04    3115\n",
       "2018-02-11    2310\n",
       "2018-02-18    2226\n",
       "2018-02-25    2381\n",
       "Freq: W-SUN, Name: ip, dtype: int64"
      ]
     },
     "execution_count": 25,
     "metadata": {},
     "output_type": "execute_result"
    }
   ],
   "source": [
    "#Resample for a weekly count of activity for an initial look at how activity increase with added classes.\n",
    "pages = df['ip'].resample('W').count()\n",
    "pages.plot()"
   ]
  },
  {
   "cell_type": "code",
   "execution_count": 26,
   "id": "bfcfc337-605a-494b-8dd1-69bffd9500a5",
   "metadata": {},
   "outputs": [
    {
     "data": {
      "text/plain": [
       "<AxesSubplot:xlabel='date'>"
      ]
     },
     "execution_count": 26,
     "metadata": {},
     "output_type": "execute_result"
    },
    {
     "data": {
      "image/png": "[encoded data removed]",
      "text/plain": [
       "<Figure size 432x288 with 1 Axes>"
      ]
     },
     "metadata": {
      "needs_background": "light"
     },
     "output_type": "display_data"
    }
   ],
   "source": []
  },
  {
   "cell_type": "code",
   "execution_count": 27,
   "id": "ca84088b-9eea-4e99-88e6-9cb49b1ca02f",
   "metadata": {},
   "outputs": [
    {
     "data": {
      "text/plain": [
       "date\n",
       "2018-01-28     709.000000\n",
       "2018-02-04    2083.857143\n",
       "2018-02-11    2181.648649\n",
       "2018-02-18    2197.868571\n",
       "2018-02-25    2257.896287\n",
       "Freq: W-SUN, Name: ip, dtype: float64"
      ]
     },
     "execution_count": 27,
     "metadata": {},
     "output_type": "execute_result"
    }
   ],
   "source": [
    "# 7 day EMA\n",
    "ema_7d = pages.ewm(span=7).mean()\n",
    "# 14 days EMA\n",
    "ema_14d = pages.ewm(span=14).mean()\n",
    "# 30 days EMA\n",
    "ema_30d = pages.ewm(span=30).mean()\n",
    "# 90 days EMA\n",
    "ema_90d = pages.ewm(span=90).mean()"
   ]
  },
  {
   "cell_type": "code",
   "execution_count": 31,
   "id": "0719c9cc-caa8-4422-8007-c5930ad4db58",
   "metadata": {},
   "outputs": [
    {
     "data": {
      "image/png": "[encoded data removed]",
      "text/plain": [
       "<Figure size 864x432 with 1 Axes>"
      ]
     },
     "metadata": {
      "needs_background": "light"
     },
     "output_type": "display_data"
    }
   ],
   "source": [
    "fig, ax = plt.subplots(figsize=(12,6))\n",
    "\n",
    "ax.plot(pages.index, pages, label='Daily', alpha=.5)\n",
    "\n",
    "ax.plot(pages.index, ema_7d, label = '7-day EMA')\n",
    "ax.plot(pages.index, ema_14d, label = '14-day EMA')\n",
    "ax.plot(pages.index, ema_30d, label = '30-day EMA')\n",
    "ax.plot(pages.index, ema_90d, label = '30-day EMA')\n",
    "\n",
    "ax.legend(loc='best')\n",
    "ax.set_ylabel('IP Activity')\n",
    "\n",
    "plt.show()\n"
   ]
  },
  {
   "cell_type": "markdown",
   "id": "707599fc-a746-4800-bd02-e0b7cfc6b2e5",
   "metadata": {},
   "source": [
    "##### Key Takeaways\n",
    "1. Increase in usage over the years.\n",
    "2. New years affects usage.\n",
    "3. Early 2021 shows a significant drop as well."
   ]
  },
  {
   "cell_type": "markdown",
   "id": "e7236799-3cfa-4356-af81-37a259381fe6",
   "metadata": {},
   "source": [
    "### # Bollinger Bands and %b"
   ]
  },
  {
   "cell_type": "code",
   "execution_count": 32,
   "id": "a7ed2458-c538-45d4-8fb8-dce780deebc8",
   "metadata": {},
   "outputs": [],
   "source": [
    "# set the window span\n",
    "span = 30\n",
    "# compute midband\n",
    "midband = pages.ewm(span=span).mean()\n",
    "# compute exponential stdev\n",
    "stdev = pages.ewm(span=span).std()\n",
    "# compute upper and lower bands\n",
    "ub = midband + stdev*3\n",
    "lb = midband - stdev*3\n",
    "# concatenate ub and lb together into one df, bb\n",
    "bb = pd.concat([ub, lb], axis=1)\n",
    "bb.columns = ['ub', 'lb']\n",
    "my_df = pd.concat([pages, midband, bb], axis=1)\n",
    "my_df.columns = ['ip_activity', 'midband', 'ub', 'lb']"
   ]
  },
  {
   "cell_type": "code",
   "execution_count": 33,
   "id": "fe2896e7-b21c-4692-b44d-7f300fd77bca",
   "metadata": {},
   "outputs": [
    {
     "data": {
      "image/png": "[encoded data removed]",
      "text/plain": [
       "<Figure size 864x576 with 1 Axes>"
      ]
     },
     "metadata": {
      "needs_background": "light"
     },
     "output_type": "display_data"
    }
   ],
   "source": [
    "fig, ax = plt.subplots(figsize=(12,8))\n",
    "\n",
    "ax.plot(my_df.index, my_df.ip_activity, label='IP. Activity')\n",
    "\n",
    "ax.plot(my_df.index, my_df.midband, label = '30-day EMA/midband')\n",
    "ax.plot(my_df.index, my_df.ub, label = 'Upper Band')\n",
    "ax.plot(my_df.index, my_df.lb, label = 'Lower Band')\n",
    "\n",
    "ax.legend(loc='best')\n",
    "ax.set_ylabel('IP Activity')\n",
    "\n",
    "plt.show()"
   ]
  },
  {
   "cell_type": "markdown",
   "id": "fedf45a1-ebf8-40fe-8b7c-76a62d67ebc5",
   "metadata": {},
   "source": [
    "##### Key Takeaways\n",
    "1. Would like to explore lower band anomalies for 2019-01, 2020-01, 2021-01, and early 2021 (Spring).\n",
    "2. Likely to suggest being the new year has an impact on activity."
   ]
  },
  {
   "cell_type": "code",
   "execution_count": null,
   "id": "9398f7d1-63ca-4310-a018-f9fcf8f70636",
   "metadata": {},
   "outputs": [],
   "source": []
  }
 ],
 "metadata": {
  "kernelspec": {
   "display_name": "Python 3",
   "language": "python",
   "name": "python3"
  },
  "language_info": {
   "codemirror_mode": {
    "name": "ipython",
    "version": 3
   },
   "file_extension": ".py",
   "mimetype": "text/x-python",
   "name": "python",
   "nbconvert_exporter": "python",
   "pygments_lexer": "ipython3",
   "version": "3.8.8"
  }
 },
 "nbformat": 4,
 "nbformat_minor": 5
}
