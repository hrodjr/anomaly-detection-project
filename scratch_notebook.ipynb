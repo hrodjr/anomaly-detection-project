{
 "cells": [
  {
   "cell_type": "code",
   "execution_count": null,
   "id": "9bd4a481-c0bc-4075-8055-4293ad880b00",
   "metadata": {},
   "outputs": [],
   "source": [
    "import pandas as pd\n",
    "import numpy as np\n",
    "import seaborn as sns\n",
    "import matplotlib.pyplot as plt\n",
    "\n",
    "import env\n",
    "from wrangle import prepd_data, summarize\n",
    "\n",
    "from datetime import date\n",
    "\n",
    "#ignore warnings\n",
    "import warnings\n",
    "warnings.filterwarnings('ignore')"
   ]
  },
  {
   "cell_type": "markdown",
   "id": "ebbad567-2ad8-4462-80a6-aa688436a73b",
   "metadata": {
    "tags": []
   },
   "source": [
    "# Acquire"
   ]
  },
  {
   "cell_type": "markdown",
   "id": "3e96c12b-ed0c-4cd4-95f1-897445354bbc",
   "metadata": {
    "tags": []
   },
   "source": [
    "##### Function accessesing db server, queries logs, and cohorts tables from the curriculm_logs db."
   ]
  },
  {
   "cell_type": "code",
   "execution_count": null,
   "id": "83ddc584-26ed-4754-8aa8-afac89247833",
   "metadata": {},
   "outputs": [],
   "source": [
    "#db access\n",
    "def get_connection(db, user=env.user, host=env.host, password=env.password):\n",
    "    return f'mysql+pymysql://{user}:{password}@{host}/{db}'\n",
    "\n",
    "#curriculum_logs db. Queried all tables with a LEFT JOIN.\n",
    "log_sql = \"SELECT *\\\n",
    "              FROM logs\\\n",
    "              LEFT JOIN cohorts ON logs.cohort_id = cohorts.id;\""
   ]
  },
  {
   "cell_type": "markdown",
   "id": "7c14a8cf-8395-446f-8c16-d7057621ddca",
   "metadata": {
    "tags": []
   },
   "source": [
    "##### Grabs dataset from get_connection function above and formats it into a pandas dataframe."
   ]
  },
  {
   "cell_type": "code",
   "execution_count": null,
   "id": "993bbea9-21a8-4abd-9b8b-d08965aeacfc",
   "metadata": {},
   "outputs": [],
   "source": [
    "#acquires curriculum_logs dataset\n",
    "def get_log_data():\n",
    "    return pd.read_sql(log_sql,get_connection('curriculum_logs'))"
   ]
  },
  {
   "cell_type": "markdown",
   "id": "af0db60c-b823-4cfe-9a57-541e01f221d7",
   "metadata": {},
   "source": [
    "##### Assigns the queried datframe as 'df'."
   ]
  },
  {
   "cell_type": "code",
   "execution_count": null,
   "id": "3cafc262-a960-493d-a7ac-f04ed6cc3be3",
   "metadata": {},
   "outputs": [],
   "source": [
    "df = get_log_data()\n",
    "df.head()"
   ]
  },
  {
   "cell_type": "markdown",
   "id": "f39b99a8-26ba-488f-8063-b09004991986",
   "metadata": {},
   "source": [
    "##### I created a dictionary with the class types to merge to the df by 'program id'."
   ]
  },
  {
   "cell_type": "code",
   "execution_count": null,
   "id": "3de2f01e-1076-4c31-8ca4-fd58ab05f6c8",
   "metadata": {},
   "outputs": [],
   "source": [
    "class_type_dict = {'id':[1, 2, 3, 4],\n",
    "        'Name':['PHP Full Stack Web Development', \n",
    "                'Java Full Stack Web Development', \n",
    "                'Data Science', \n",
    "                'Front End Web Development'],\n",
    "        'subdomain':['php','java','ds','fe']}\n",
    "class_type = pd.DataFrame(class_type_dict)\n",
    "print (class_type)"
   ]
  },
  {
   "cell_type": "markdown",
   "id": "bc1339f7-4894-4bd2-ba19-bf7250060b38",
   "metadata": {},
   "source": [
    "##### Merge df and class_type datasets"
   ]
  },
  {
   "cell_type": "code",
   "execution_count": null,
   "id": "41023dc6-82d3-46ce-a2ba-8161c9aa16e9",
   "metadata": {},
   "outputs": [],
   "source": [
    "df = df.merge(class_type, how='left', left_on='program_id', right_on='id')"
   ]
  },
  {
   "cell_type": "code",
   "execution_count": null,
   "id": "fd0936df-8fc3-4f46-b00b-c120a6ba7071",
   "metadata": {},
   "outputs": [],
   "source": [
    "df.head()"
   ]
  },
  {
   "cell_type": "markdown",
   "id": "bf5103e3-5585-4085-b904-67c3a7ee4be7",
   "metadata": {},
   "source": [
    "##### Cache dataset for accessibility."
   ]
  },
  {
   "cell_type": "code",
   "execution_count": null,
   "id": "906e3d68-b117-4b41-8e3c-de2c4d3779d6",
   "metadata": {},
   "outputs": [],
   "source": [
    "df.to_csv('/Users/hector/codeup-data-science/anomaly-detection-project/log_data.csv')"
   ]
  },
  {
   "cell_type": "markdown",
   "id": "6ef5ab62-4a52-42f8-9fc0-7056c8e967b4",
   "metadata": {},
   "source": [
    "# Prepare"
   ]
  },
  {
   "cell_type": "markdown",
   "id": "a67de995-70b0-4919-9eb7-63829216ba66",
   "metadata": {},
   "source": [
    "##### Bring in log_data.csv dataframe for prep"
   ]
  },
  {
   "cell_type": "code",
   "execution_count": null,
   "id": "912a032c-1621-471c-96a1-be0f9adf8edf",
   "metadata": {},
   "outputs": [],
   "source": [
    "summarize(df)"
   ]
  },
  {
   "cell_type": "code",
   "execution_count": null,
   "id": "52a56380-5e9f-409d-9333-c9db07827519",
   "metadata": {},
   "outputs": [],
   "source": [
    "#splits the path into two colums, I will keep 'path_2' and drop 'path'\n",
    "df['path_2'] = df.path.str.split('/').str[1]"
   ]
  },
  {
   "cell_type": "code",
   "execution_count": null,
   "id": "066d9dc8-983d-42f9-a57f-de776f6f8304",
   "metadata": {},
   "outputs": [],
   "source": [
    "#Found empty string values in path_2. This code replaces the empty cells with 'NaN'\n",
    "#in order to drop nulls later.\n",
    "df['path_2'].replace('', np.nan, inplace=True)"
   ]
  },
  {
   "cell_type": "code",
   "execution_count": null,
   "id": "5a778581-96e7-413b-af10-2109da554c66",
   "metadata": {},
   "outputs": [],
   "source": [
    "#merge date and time columns\n",
    "df['date'] = df['date'] +' '+ df['time']#concat time and date"
   ]
  },
  {
   "cell_type": "code",
   "execution_count": null,
   "id": "d20a85d2-95a5-4a39-b19b-d2a41c671ffb",
   "metadata": {},
   "outputs": [],
   "source": [
    "#datetime conversion and set index   \n",
    "df['date'] = pd.to_datetime(df['date'])\n",
    "df = df.set_index('date').sort_index()"
   ]
  },
  {
   "cell_type": "code",
   "execution_count": null,
   "id": "3053962c-5989-483c-96eb-420724ed223a",
   "metadata": {},
   "outputs": [],
   "source": [
    "#drop columns. these columns have no use.\n",
    "df = df.drop(columns=['time', 'id_x', 'slack', 'id_y', 'Name', 'deleted_at', 'path'])"
   ]
  },
  {
   "cell_type": "code",
   "execution_count": null,
   "id": "c5d04fbb-a5b1-4e57-a1f6-26b4d424ecb0",
   "metadata": {},
   "outputs": [],
   "source": [
    "#rename columns\n",
    "df = df.rename(columns = {'name':'cohort', 'start_date':'class_start_date', 'end_date':'class_end_date'})    "
   ]
  },
  {
   "cell_type": "code",
   "execution_count": null,
   "id": "3bfd0ab0-3d39-4bef-8d4e-a45a936ed042",
   "metadata": {},
   "outputs": [],
   "source": [
    "df.isnull().sum()"
   ]
  },
  {
   "cell_type": "code",
   "execution_count": null,
   "id": "be7e6d05-990d-4631-81c8-0a728efc1bc1",
   "metadata": {},
   "outputs": [],
   "source": [
    "#drops nulls (rows)\n",
    "df = df.dropna()"
   ]
  },
  {
   "cell_type": "code",
   "execution_count": null,
   "id": "b69bd9ac-fae5-4c84-ad6c-11521bf222b3",
   "metadata": {},
   "outputs": [],
   "source": [
    "df.isnull().sum()"
   ]
  },
  {
   "cell_type": "code",
   "execution_count": null,
   "id": "e88d8b1b-bf0c-42f6-8372-2616bfbc1472",
   "metadata": {},
   "outputs": [],
   "source": [
    "df.path_2.value_counts()"
   ]
  },
  {
   "cell_type": "code",
   "execution_count": null,
   "id": "1b1f1bee-fa24-4c27-95b9-bbf9126ecdd6",
   "metadata": {},
   "outputs": [],
   "source": [
    "df.shape"
   ]
  },
  {
   "cell_type": "code",
   "execution_count": null,
   "id": "4fe2d1a7-4ab4-47aa-b85e-5ecff692f194",
   "metadata": {},
   "outputs": [],
   "source": [
    "# take subset where path doesn't end with jpg\n",
    "df = df[~df.path_2.str.endswith('jpg')]"
   ]
  },
  {
   "cell_type": "code",
   "execution_count": null,
   "id": "7ee6193d-b98a-4a89-ba53-bbb8f0b2a828",
   "metadata": {},
   "outputs": [],
   "source": [
    "df.shape"
   ]
  },
  {
   "cell_type": "code",
   "execution_count": null,
   "id": "9f98106a-8385-45e0-97c0-0bda2049ebd2",
   "metadata": {},
   "outputs": [],
   "source": [
    "# take subset where path doesn't end with jpeg\n",
    "df = df[~df.path_2.str.endswith('jpeg')]"
   ]
  },
  {
   "cell_type": "code",
   "execution_count": null,
   "id": "780e4f77-e77c-4f34-9443-54c43560178a",
   "metadata": {},
   "outputs": [],
   "source": [
    "df.shape"
   ]
  },
  {
   "cell_type": "code",
   "execution_count": null,
   "id": "b3d71c51-bfc3-44ba-be01-a11797fc94e9",
   "metadata": {},
   "outputs": [],
   "source": [
    "# take subset where path doesn't end with svg\n",
    "df = df[~df.path_2.str.endswith('svg')]"
   ]
  },
  {
   "cell_type": "code",
   "execution_count": null,
   "id": "07f2ef32-25f5-4ca3-ba70-809e1e5db33f",
   "metadata": {},
   "outputs": [],
   "source": [
    "df.shape"
   ]
  },
  {
   "cell_type": "code",
   "execution_count": null,
   "id": "2f3edfc1-b101-4f79-8519-7fa9dd994930",
   "metadata": {},
   "outputs": [],
   "source": [
    "df.path_2.value_counts()"
   ]
  },
  {
   "cell_type": "code",
   "execution_count": null,
   "id": "47cf25a5-81e9-4845-b8b3-44e311226cfe",
   "metadata": {},
   "outputs": [],
   "source": [
    "df['path_2'] = df.path_2.str.lstrip('(\\d)')"
   ]
  },
  {
   "cell_type": "code",
   "execution_count": null,
   "id": "882d88ba-5d0e-4bc2-b4cd-caa74f3ea0d5",
   "metadata": {},
   "outputs": [],
   "source": [
    "df.path_2.value_counts()"
   ]
  },
  {
   "cell_type": "code",
   "execution_count": null,
   "id": "843337ca-da16-4d4a-87ba-7a6044f538b5",
   "metadata": {},
   "outputs": [],
   "source": [
    "df.shape"
   ]
  },
  {
   "cell_type": "code",
   "execution_count": null,
   "id": "f995c7f3-be7e-428a-aaeb-19ad2d50a757",
   "metadata": {},
   "outputs": [],
   "source": [
    "df['path_2'] = df.path_2.str.strip('123')"
   ]
  },
  {
   "cell_type": "code",
   "execution_count": null,
   "id": "9c4df7a6-8c8f-4e4e-8fe8-ae728cc81ddc",
   "metadata": {},
   "outputs": [],
   "source": [
    "df.shape"
   ]
  },
  {
   "cell_type": "code",
   "execution_count": null,
   "id": "6709fe72-bc6e-4b24-b983-b9904e1b8e4d",
   "metadata": {},
   "outputs": [],
   "source": [
    "df.path_2.value_counts()"
   ]
  },
  {
   "cell_type": "code",
   "execution_count": null,
   "id": "660b79ed-e9cd-4af0-a753-50a0eea9cd61",
   "metadata": {},
   "outputs": [],
   "source": [
    "df.shape"
   ]
  },
  {
   "cell_type": "code",
   "execution_count": null,
   "id": "b837c253-4eb5-44f1-a484-a4e71372f945",
   "metadata": {},
   "outputs": [],
   "source": [
    "df['path_2'] = df.path_2.str.lstrip('(-)')"
   ]
  },
  {
   "cell_type": "code",
   "execution_count": null,
   "id": "3cd37175-34af-4f25-b219-fd51aff99412",
   "metadata": {},
   "outputs": [],
   "source": [
    "df.shape"
   ]
  },
  {
   "cell_type": "code",
   "execution_count": null,
   "id": "ad2b6a05-00a4-4b43-90a8-83093774786b",
   "metadata": {},
   "outputs": [],
   "source": [
    "df.path_2.value_counts()"
   ]
  },
  {
   "cell_type": "code",
   "execution_count": null,
   "id": "89797d14-6598-47a0-b19d-f7d63357b2c2",
   "metadata": {
    "tags": []
   },
   "outputs": [],
   "source": [
    "#converts dtypes for listed features\n",
    "convert_dict_int = {'cohort_id':int, 'program_id':int, 'class_start_date':'datetime64[ns]', 'class_end_date':'datetime64[ns]', 'created_at':'datetime64[ns]', 'updated_at':'datetime64[ns]'}\n",
    "df = df.astype(convert_dict_int)"
   ]
  },
  {
   "cell_type": "code",
   "execution_count": null,
   "id": "12e12e8f-c14f-4737-880b-a6b4e9f56dae",
   "metadata": {},
   "outputs": [],
   "source": [
    "df.head()"
   ]
  },
  {
   "cell_type": "code",
   "execution_count": null,
   "id": "44536fa8-d199-45e1-bfcd-03c5872967d5",
   "metadata": {},
   "outputs": [],
   "source": [
    "df.to_csv('/Users/hector/codeup-data-science/anomaly-detection-project/log_clean.csv')"
   ]
  },
  {
   "cell_type": "code",
   "execution_count": null,
   "id": "1e0d252b-bd5b-41b1-ae29-76f5f5871373",
   "metadata": {},
   "outputs": [],
   "source": [
    "df.user_id.value_counts().head()"
   ]
  },
  {
   "cell_type": "code",
   "execution_count": null,
   "id": "8096e44b-cc14-4af4-a351-4d12c4b7b5fa",
   "metadata": {},
   "outputs": [],
   "source": [
    "df.cohort_id.value_counts().head()"
   ]
  },
  {
   "cell_type": "code",
   "execution_count": null,
   "id": "4ecab1d9-df96-4099-a669-5b4f5eb76ddf",
   "metadata": {},
   "outputs": [],
   "source": [
    "df.ip.value_counts().head()"
   ]
  },
  {
   "cell_type": "code",
   "execution_count": null,
   "id": "ab529573-6a9c-4836-b819-a16792759b22",
   "metadata": {},
   "outputs": [],
   "source": [
    "df.ip.value_counts(normalize=True).head()"
   ]
  },
  {
   "cell_type": "code",
   "execution_count": null,
   "id": "1c63dcff-3dab-403a-921a-138003753f37",
   "metadata": {},
   "outputs": [],
   "source": [
    "def value_counts_and_frequencies(s: pd.Series, dropna=True) -> pd.DataFrame:\n",
    "    return pd.merge(\n",
    "        s.value_counts(dropna=False).rename('count'),\n",
    "        s.value_counts(dropna=False, normalize=True).rename('proba'),\n",
    "        left_index=True,\n",
    "        right_index=True,\n",
    "    )"
   ]
  },
  {
   "cell_type": "code",
   "execution_count": null,
   "id": "e090fce4-50a2-4f13-b118-d485c1146cda",
   "metadata": {},
   "outputs": [],
   "source": [
    "ip_df = value_counts_and_frequencies(df.ip)\n",
    "ip_df.head()"
   ]
  },
  {
   "cell_type": "code",
   "execution_count": null,
   "id": "377b0ea2-7c81-4f0e-871a-e74dcbdf6d81",
   "metadata": {},
   "outputs": [],
   "source": [
    "ip_df['count'].sort_values().tail().plot.barh(figsize=(5, 9))"
   ]
  },
  {
   "cell_type": "code",
   "execution_count": null,
   "id": "832d69e2-746e-4abe-bdd5-edeec99fe8ef",
   "metadata": {},
   "outputs": [],
   "source": [
    "lesson_df = value_counts_and_frequencies(df.path_2)\n",
    "lesson_df['count'].sort_values().tail().plot.barh(figsize=(5, 9))"
   ]
  },
  {
   "cell_type": "code",
   "execution_count": null,
   "id": "25b67451-9822-4e69-8a9c-7b4fbb7404a4",
   "metadata": {},
   "outputs": [],
   "source": [
    "cohort_df = value_counts_and_frequencies(df.cohort)\n",
    "cohort_df['count'].sort_values().tail().plot.barh(figsize=(5, 9))"
   ]
  },
  {
   "cell_type": "code",
   "execution_count": null,
   "id": "4e9ca28d-9dbb-440f-ab5d-2ea22c06bc4d",
   "metadata": {},
   "outputs": [],
   "source": [
    "user_df = value_counts_and_frequencies(df.user_id)\n",
    "user_df['count'].sort_values().tail().plot.barh(figsize=(5, 9))"
   ]
  },
  {
   "cell_type": "code",
   "execution_count": null,
   "id": "4320ebaf-d9d6-45c3-ac4f-d29c62bcdaf8",
   "metadata": {},
   "outputs": [],
   "source": [
    "program_df = value_counts_and_frequencies(df.subdomain)\n",
    "program_df['count'].sort_values().tail().plot.barh(figsize=(5, 9))"
   ]
  },
  {
   "cell_type": "markdown",
   "id": "abaaaebc-8150-43da-b4d5-ede08696f606",
   "metadata": {},
   "source": [
    "# Explore\n",
    "\n",
    "1. Discrete data is a numerical type of data that includes whole, concrete numbers with specific and fixed data values determined by counting. \n",
    "        - disconnected, separate, and distinct\n",
    "        - to find relationships, trends, and other concepts\n",
    "        - In many cases, discrete data can be prefixed with “the number of.”\n",
    "        - whole, round number that can't be broken down into smaller parts.\n",
    "        - Discrete data includes discrete variables that are finite, numeric, countable, and non-negative integers (5, 10, 15, and so on).\n",
    "        - can also be categorical - contain a finite number of data values, such as the gender of a person.\n",
    "        - Discrete data is distributed discretely in terms of time and space.\n",
    "\n",
    "2. Continuous data includes complex numbers and varying data values that are measured over a specific time interval.-- refers to change over time\n",
    "        - unspecified number of possible measurements between two realistic points.\n",
    "        - all about accuracy\n",
    "        - data sets often carry decimal points\n",
    "        - The weight of newborn babies\n",
    "        - The daily wind speed\n",
    "        - The temperature of a freezer\n",
    "        - clocking every runner in the Olympics\n",
    "        - There are infinite possibilities along this line (for example, 5.77 seconds, 5.772 seconds, 5.7699 seconds, etc.), but every new measurement is always somewhere within the range.\n",
    "        - continuous data can be either numeric or distributed over date and time.\n",
    "        - changes over time and can have different values at different time intervals.\n",
    "        - random variables, which may or may not be whole numbers.\n",
    "        - Regression analysis is one of the most common types of continuous data analysis."
   ]
  },
  {
   "cell_type": "markdown",
   "id": "5ad4b0f4-2a52-4d79-84de-ce3654f708df",
   "metadata": {},
   "source": [
    "1. Which lesson appears to attract the most traffic consistently across cohorts (per program)?\n",
    "\n",
    "- which lesson appears the most across cohorts?\n",
    "- groupby cohort and get a count of lessons (max)...maybe?"
   ]
  },
  {
   "cell_type": "code",
   "execution_count": null,
   "id": "09f88a86-b6d1-4bd9-bdc1-aed1bb295824",
   "metadata": {},
   "outputs": [],
   "source": [
    "lesson_across_cohorts = (df.sort_values('cohort').path_2.value_counts(normalize=True).rename('cohort_count').reset_index())\n",
    "lesson_across_cohorts.head()"
   ]
  },
  {
   "cell_type": "code",
   "execution_count": null,
   "id": "1667c3ef-7359-4f65-8f56-b1f5c509cbc1",
   "metadata": {},
   "outputs": [],
   "source": [
    "lesson_across_cohorts.to_csv('/Users/hector/codeup-data-science/anomaly-detection-project/lesson_across_cohorts.csv')"
   ]
  },
  {
   "cell_type": "markdown",
   "id": "c21e88f6-6aac-43ff-a043-b5e0989b1b55",
   "metadata": {},
   "source": [
    "### Tableau"
   ]
  },
  {
   "cell_type": "code",
   "execution_count": null,
   "id": "d9966ec8-cf34-4b1e-8c3f-7101b3f69100",
   "metadata": {},
   "outputs": [],
   "source": []
  },
  {
   "cell_type": "markdown",
   "id": "b60added-3239-4e41-92bd-ca056551352f",
   "metadata": {},
   "source": [
    "2. Is there a cohort that referred to a lesson significantly more than other cohorts seemed to gloss over?\n",
    "- Opposite of the above (min)\n",
    "_ graph all cohortsand show "
   ]
  },
  {
   "cell_type": "code",
   "execution_count": null,
   "id": "6dbcb6a1-ddc0-437a-944c-1c382e35e5e9",
   "metadata": {},
   "outputs": [],
   "source": [
    "cohorts_to_lesson = (df.sort_values('path_2').cohort.value_counts().rename('path_count').reset_index())\n",
    "cohorts_to_lesson.head()"
   ]
  },
  {
   "cell_type": "code",
   "execution_count": null,
   "id": "4d5de0b7-2b18-43f3-b67e-1977e5604447",
   "metadata": {},
   "outputs": [],
   "source": [
    "cohorts_to_lesson.to_csv('/Users/hector/codeup-data-science/anomaly-detection-project/cohorts_to_lesson.csv')"
   ]
  },
  {
   "cell_type": "markdown",
   "id": "c0da58b9-4254-4083-b270-79da2182f68c",
   "metadata": {},
   "source": [
    "### Tableau"
   ]
  },
  {
   "cell_type": "code",
   "execution_count": null,
   "id": "e0afc516-ba43-4da3-94ad-2da6776a287a",
   "metadata": {},
   "outputs": [],
   "source": []
  },
  {
   "cell_type": "markdown",
   "id": "cf6a91fb-d172-4045-ad99-95343614a8f7",
   "metadata": {},
   "source": [
    "3. Are there students who, when active, hardly access the curriculum? If so, what information do you have about these students?\n",
    "\n",
    "- student, active, that do not access the curriculum  (ip address ?)"
   ]
  },
  {
   "cell_type": "code",
   "execution_count": null,
   "id": "e726f13d-d795-4e5f-bf13-5341814bc24e",
   "metadata": {
    "tags": []
   },
   "outputs": [],
   "source": [
    "student_activity = (df.sort_values('ip').user_id.value_counts().rename('ip_count').reset_index())\n",
    "student_activity.tail()"
   ]
  },
  {
   "cell_type": "code",
   "execution_count": null,
   "id": "82ced2ca-1638-469e-91bc-1854dc733d32",
   "metadata": {},
   "outputs": [],
   "source": [
    "student_activity.to_csv('/Users/hector/codeup-data-science/anomaly-detection-project/student_activity.csv')"
   ]
  },
  {
   "cell_type": "markdown",
   "id": "019ef92f-c280-4484-b3a2-9b4a620c4bc7",
   "metadata": {},
   "source": [
    "### Tableau"
   ]
  },
  {
   "cell_type": "code",
   "execution_count": null,
   "id": "fcf1ca3b-5a6f-48bb-ab36-37d6305c38f0",
   "metadata": {},
   "outputs": [],
   "source": []
  },
  {
   "cell_type": "markdown",
   "id": "19268e62-b391-44d5-882d-ad3c8990be20",
   "metadata": {},
   "source": [
    "4. Is there any suspicious activity, such as users/machines/etc accessing the curriculum who shouldn’t be? Does it appear that any web-scraping is happening? Are there any suspicious IP addresses?\n",
    "\n"
   ]
  },
  {
   "cell_type": "code",
   "execution_count": null,
   "id": "08d2d589-d43d-4d1c-9a1c-a9fc02b39792",
   "metadata": {},
   "outputs": [],
   "source": []
  },
  {
   "cell_type": "markdown",
   "id": "644d0048-c5af-43b6-aa26-213249e4357c",
   "metadata": {},
   "source": [
    "5. At some point in 2019, the ability for students and alumni to access both curriculums (web dev to ds, ds to web dev) should have been shut off. Do you see any evidence of that happening? Did it happen before?\n",
    "\n"
   ]
  },
  {
   "cell_type": "code",
   "execution_count": null,
   "id": "5fefa7b8-98cb-4b29-9d21-6ffcce746cc2",
   "metadata": {},
   "outputs": [],
   "source": []
  },
  {
   "cell_type": "markdown",
   "id": "20848357-7141-4c86-870f-1e8027eb80e3",
   "metadata": {},
   "source": [
    "6. What topics are grads continuing to reference after graduation and into their jobs (for each program)?"
   ]
  },
  {
   "cell_type": "code",
   "execution_count": null,
   "id": "5a878515-bd7d-463d-a111-72240a4a6998",
   "metadata": {},
   "outputs": [],
   "source": [
    "accessed = (df.sort_values('path_2').user_id.value_counts().rename('p2_count').reset_index())\n",
    "accessed.head()"
   ]
  },
  {
   "cell_type": "code",
   "execution_count": null,
   "id": "47c1c3aa-c4cf-4cc0-8826-7e284c02dc16",
   "metadata": {},
   "outputs": [],
   "source": [
    "accessed.to_csv('/Users/hector/codeup-data-science/anomaly-detection-project/accessed.csv')"
   ]
  },
  {
   "cell_type": "markdown",
   "id": "3ce3357d-471c-4176-bd80-dabc3fa1ec86",
   "metadata": {},
   "source": [
    "### Tableau"
   ]
  },
  {
   "cell_type": "code",
   "execution_count": null,
   "id": "4c3c4e4a-0c32-4c77-951a-86c5540a4a5d",
   "metadata": {},
   "outputs": [],
   "source": []
  },
  {
   "cell_type": "markdown",
   "id": "66ebf26f-f5e5-4390-8408-2945091831d9",
   "metadata": {},
   "source": [
    "7. "
   ]
  },
  {
   "cell_type": "code",
   "execution_count": null,
   "id": "1e3dd114-5e32-47e9-b106-d9884e69d6f8",
   "metadata": {},
   "outputs": [],
   "source": [
    "least_accessed = (df.sort_values('path_2').user_id.value_counts().rename('p2_count').reset_index())\n",
    "least_accessed .tail()"
   ]
  },
  {
   "cell_type": "markdown",
   "id": "cb70998c-ba32-464c-a2f4-d3ef2f69ed6f",
   "metadata": {},
   "source": [
    "### Same Tableau as number 3"
   ]
  },
  {
   "cell_type": "code",
   "execution_count": null,
   "id": "3f683da3-92b1-4499-8f68-c249a5ee76d6",
   "metadata": {},
   "outputs": [],
   "source": []
  },
  {
   "cell_type": "markdown",
   "id": "aea81c8d-b77f-4359-972f-31860b0977ee",
   "metadata": {},
   "source": [
    "8. Anything else I should be aware of?"
   ]
  },
  {
   "cell_type": "code",
   "execution_count": null,
   "id": "ed45aeda-4b0a-497e-b03f-b0851b7e771b",
   "metadata": {},
   "outputs": [],
   "source": [
    "pages = df['ip'].resample('W').count()\n",
    "pages.head()"
   ]
  },
  {
   "cell_type": "code",
   "execution_count": null,
   "id": "5a57451b-8e16-49d4-b831-5353de75f028",
   "metadata": {},
   "outputs": [],
   "source": [
    "pages.plot()"
   ]
  },
  {
   "cell_type": "code",
   "execution_count": null,
   "id": "9a19a61c-7d35-4320-9f58-ee7f716de7d1",
   "metadata": {},
   "outputs": [],
   "source": [
    "# 7 day EMA\n",
    "ema_7d = pages.ewm(span=7).mean()\n",
    "ema_7d.head()"
   ]
  },
  {
   "cell_type": "code",
   "execution_count": null,
   "id": "48cbf12a-f7c8-4f9f-8f18-9b43c7e69dbd",
   "metadata": {},
   "outputs": [],
   "source": [
    "# 14 days EMA\n",
    "ema_14d = pages.ewm(span=14).mean()\n",
    "ema_14d.head()"
   ]
  },
  {
   "cell_type": "code",
   "execution_count": null,
   "id": "a9c895d8-1bb3-4085-b7ad-988702b43138",
   "metadata": {},
   "outputs": [],
   "source": [
    "# 30 days EMA\n",
    "ema_30d = pages.ewm(span=30).mean()\n",
    "ema_30d.head()"
   ]
  },
  {
   "cell_type": "code",
   "execution_count": null,
   "id": "c8a2d859-42ad-44fd-a89a-b4e5e178dfaf",
   "metadata": {},
   "outputs": [],
   "source": [
    "# 90 days EMA\n",
    "ema_90d = pages.ewm(span=90).mean()\n",
    "ema_90d.head()"
   ]
  },
  {
   "cell_type": "code",
   "execution_count": null,
   "id": "860f0d55-12be-4d6f-9a1b-0024257666be",
   "metadata": {},
   "outputs": [],
   "source": [
    "fig, ax = plt.subplots(figsize=(12,6))\n",
    "\n",
    "ax.plot(pages.index, pages, label='Daily', alpha=.5)\n",
    "\n",
    "ax.plot(pages.index, ema_7d, label = '7-day EMA')\n",
    "ax.plot(pages.index, ema_14d, label = '14-day EMA')\n",
    "ax.plot(pages.index, ema_30d, label = '30-day EMA')\n",
    "ax.plot(pages.index, ema_90d, label = '30-day EMA')\n",
    "\n",
    "ax.legend(loc='best')\n",
    "ax.set_ylabel('IP Activity')\n",
    "\n",
    "plt.show()\n"
   ]
  },
  {
   "cell_type": "markdown",
   "id": "d2f6dd0d-5845-4625-a832-cc707cdc0195",
   "metadata": {},
   "source": [
    "# Bollinger Bands and %b"
   ]
  },
  {
   "cell_type": "code",
   "execution_count": null,
   "id": "8c14a5c9-7d1c-4041-a900-b6f1dc94914f",
   "metadata": {},
   "outputs": [],
   "source": [
    "# set the window span\n",
    "span = 30\n",
    "\n",
    "# compute midband\n",
    "midband = pages.ewm(span=span).mean()\n",
    "\n",
    "midband.head()"
   ]
  },
  {
   "cell_type": "code",
   "execution_count": null,
   "id": "5bfbd3d5-23d6-4d68-ae96-f3061ac1a414",
   "metadata": {},
   "outputs": [],
   "source": [
    "# compute exponential stdev\n",
    "stdev = pages.ewm(span=span).std()\n",
    "\n",
    "stdev.head()\n"
   ]
  },
  {
   "cell_type": "code",
   "execution_count": null,
   "id": "3cd5513a-5568-47f6-8abc-7256a8e0a7e4",
   "metadata": {},
   "outputs": [],
   "source": [
    "# compute upper and lower bands\n",
    "ub = midband + stdev*3\n",
    "lb = midband - stdev*3\n",
    "ub"
   ]
  },
  {
   "cell_type": "code",
   "execution_count": null,
   "id": "e5cee3e2-29da-4acb-bcdd-40f3b7c8e369",
   "metadata": {},
   "outputs": [],
   "source": [
    "lb"
   ]
  },
  {
   "cell_type": "code",
   "execution_count": null,
   "id": "6453a42d-343c-49af-bae5-c3aceefe8707",
   "metadata": {},
   "outputs": [],
   "source": [
    "# concatenate ub and lb together into one df, bb\n",
    "bb = pd.concat([ub, lb], axis=1)\n",
    "\n",
    "bb.columns = ['ub', 'lb']\n",
    "bb.head()"
   ]
  },
  {
   "cell_type": "code",
   "execution_count": null,
   "id": "0c08608e-41ce-4498-a052-a264627aaca1",
   "metadata": {},
   "outputs": [],
   "source": [
    "my_df = pd.concat([pages, midband, bb], axis=1)\n",
    "my_df.columns = ['ip_activity', 'midband', 'ub', 'lb']\n",
    "my_df.head()"
   ]
  },
  {
   "cell_type": "code",
   "execution_count": null,
   "id": "8637d5ac-debf-4a48-89a0-5c343cde7806",
   "metadata": {},
   "outputs": [],
   "source": [
    "fig, ax = plt.subplots(figsize=(12,8))\n",
    "\n",
    "ax.plot(my_df.index, my_df.ip_activity, label='IP. Activity')\n",
    "\n",
    "ax.plot(my_df.index, my_df.midband, label = '30-day EMA/midband')\n",
    "ax.plot(my_df.index, my_df.ub, label = 'Upper Band')\n",
    "ax.plot(my_df.index, my_df.lb, label = 'Lower Band')\n",
    "\n",
    "ax.legend(loc='best')\n",
    "ax.set_ylabel('IP Activity')\n",
    "\n",
    "plt.show()"
   ]
  },
  {
   "cell_type": "code",
   "execution_count": null,
   "id": "7a33b5d6-8e08-4fec-a2ea-717943714b87",
   "metadata": {},
   "outputs": [],
   "source": [
    "# get the last measure of gb\n",
    "last_measure = my_df.iloc[-1].pages\n",
    "last_measure\n"
   ]
  },
  {
   "cell_type": "code",
   "execution_count": null,
   "id": "1650f7d6-9051-4c3d-ab97-c227069c145c",
   "metadata": {},
   "outputs": [],
   "source": [
    "# get the lower band value on the last date\n",
    "last_lb = my_df.iloc[-1].lb\n",
    "last_lb"
   ]
  },
  {
   "cell_type": "code",
   "execution_count": null,
   "id": "43c3f955-4de6-465f-bd50-791c1c35d5ad",
   "metadata": {},
   "outputs": [],
   "source": [
    "# get the upper band value on the last date\n",
    "last_ub = my_df.iloc[-1].ub\n",
    "last_ub"
   ]
  },
  {
   "cell_type": "code",
   "execution_count": null,
   "id": "a4481d1b-8829-43b9-8d88-301a0453db86",
   "metadata": {},
   "outputs": [],
   "source": [
    "# compute %b\n",
    "last_pct_b = (last_measure - last_lb)/(last_ub - last_lb)\n",
    "\n",
    "print('%b for last datapoint: ', round(last_pct_b, 2))"
   ]
  },
  {
   "cell_type": "code",
   "execution_count": null,
   "id": "55df79fe-2536-4ebf-a2c3-275f6b8240af",
   "metadata": {},
   "outputs": [],
   "source": [
    "my_df.tail(3)"
   ]
  },
  {
   "cell_type": "code",
   "execution_count": null,
   "id": "24817659-17ac-4d2a-8206-08dccc4d187f",
   "metadata": {},
   "outputs": [],
   "source": [
    "my_df['pct_b'] = (my_df['ip_activity'] - my_df['lb'])/(my_df['ub'] - my_df['lb'])\n",
    "\n",
    "my_df.head()"
   ]
  },
  {
   "cell_type": "code",
   "execution_count": null,
   "id": "8985aa47-f9e2-4d9b-bf98-cdaa096c4846",
   "metadata": {},
   "outputs": [],
   "source": []
  },
  {
   "cell_type": "code",
   "execution_count": null,
   "id": "b069bc74-07b7-4c0a-9af2-ab56c81c5c08",
   "metadata": {},
   "outputs": [],
   "source": [
    "span = 30\n",
    "weight = 3.5\n",
    "\n",
    "anomalies = pd.DataFrame()\n",
    "for u in list(df.user_id.unique()):\n",
    "    user_df = find_anomalies(df, u, span, weight)\n",
    "    anomalies = pd.concat([anomalies, user_df], axis=0)\n"
   ]
  },
  {
   "cell_type": "code",
   "execution_count": null,
   "id": "d7d697b0-d883-4b19-9cce-fd0682c57493",
   "metadata": {},
   "outputs": [],
   "source": []
  }
 ],
 "metadata": {
  "kernelspec": {
   "display_name": "Python 3",
   "language": "python",
   "name": "python3"
  },
  "language_info": {
   "codemirror_mode": {
    "name": "ipython",
    "version": 3
   },
   "file_extension": ".py",
   "mimetype": "text/x-python",
   "name": "python",
   "nbconvert_exporter": "python",
   "pygments_lexer": "ipython3",
   "version": "3.8.8"
  }
 },
 "nbformat": 4,
 "nbformat_minor": 5
}
